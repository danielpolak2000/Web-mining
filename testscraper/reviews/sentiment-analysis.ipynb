{
 "cells": [
  {
   "cell_type": "markdown",
   "id": "ce17f0ed",
   "metadata": {
    "_cell_guid": "b1076dfc-b9ad-4769-8c92-a6c4dae69d19",
    "_uuid": "8f2839f25d086af736a60e9eeb907d3b93b6e0e5",
    "papermill": {
     "duration": 0.044276,
     "end_time": "2022-05-05T13:16:45.092039",
     "exception": false,
     "start_time": "2022-05-05T13:16:45.047763",
     "status": "completed"
    },
    "tags": []
   },
   "source": [
    "# Sentiment Analysis\n",
    "\n",
    "Wir schauen uns drei Methoden an:\n",
    "1. VADER (Valence Aware Dictionary and sEntiment Reasoner) - Bag of words Ansatz\n",
    "2. Roberta Pretrained Model von 🤗\n",
    "3. Extra: Hugging Face Pipeline"
   ]
  },
  {
   "cell_type": "markdown",
   "id": "6bf3e498",
   "metadata": {
    "papermill": {
     "duration": 0.041936,
     "end_time": "2022-05-05T13:16:45.177130",
     "exception": false,
     "start_time": "2022-05-05T13:16:45.135194",
     "status": "completed"
    },
    "tags": []
   },
   "source": [
    "# Step 0. Daten importieren"
   ]
  },
  {
   "cell_type": "code",
   "execution_count": 40,
   "id": "88f3972c",
   "metadata": {
    "execution": {
     "iopub.execute_input": "2022-05-05T13:16:45.265700Z",
     "iopub.status.busy": "2022-05-05T13:16:45.264614Z",
     "iopub.status.idle": "2022-05-05T13:16:47.179249Z",
     "shell.execute_reply": "2022-05-05T13:16:47.178191Z"
    },
    "papermill": {
     "duration": 1.962598,
     "end_time": "2022-05-05T13:16:47.182472",
     "exception": false,
     "start_time": "2022-05-05T13:16:45.219874",
     "status": "completed"
    },
    "tags": []
   },
   "outputs": [
    {
     "name": "stderr",
     "output_type": "stream",
     "text": [
      "[nltk_data] Downloading package punkt to\n",
      "[nltk_data]     /Users/danielpolak/nltk_data...\n",
      "[nltk_data]   Package punkt is already up-to-date!\n",
      "[nltk_data] Downloading package averaged_perceptron_tagger to\n",
      "[nltk_data]     /Users/danielpolak/nltk_data...\n",
      "[nltk_data]   Package averaged_perceptron_tagger is already up-to-\n",
      "[nltk_data]       date!\n",
      "[nltk_data] Downloading package maxent_ne_chunker to\n",
      "[nltk_data]     /Users/danielpolak/nltk_data...\n",
      "[nltk_data]   Package maxent_ne_chunker is already up-to-date!\n",
      "[nltk_data] Downloading package words to\n",
      "[nltk_data]     /Users/danielpolak/nltk_data...\n",
      "[nltk_data]   Package words is already up-to-date!\n",
      "[nltk_data] Downloading package vader_lexicon to\n",
      "[nltk_data]     /Users/danielpolak/nltk_data...\n",
      "[nltk_data]   Package vader_lexicon is already up-to-date!\n"
     ]
    },
    {
     "data": {
      "text/plain": [
       "True"
      ]
     },
     "execution_count": 40,
     "metadata": {},
     "output_type": "execute_result"
    }
   ],
   "source": [
    "import pandas as pd\n",
    "import numpy as np\n",
    "import matplotlib.pyplot as plt\n",
    "import seaborn as sns\n",
    "\n",
    "plt.style.use('ggplot')\n",
    "\n",
    "import nltk\n",
    "nltk.download('punkt')\n",
    "nltk.download('averaged_perceptron_tagger')\n",
    "nltk.download('maxent_ne_chunker')\n",
    "nltk.download('words')\n",
    "nltk.download('vader_lexicon')"
   ]
  },
  {
   "cell_type": "code",
   "execution_count": 41,
   "id": "b416c4fb",
   "metadata": {
    "execution": {
     "iopub.execute_input": "2022-05-05T13:16:47.274644Z",
     "iopub.status.busy": "2022-05-05T13:16:47.274246Z",
     "iopub.status.idle": "2022-05-05T13:16:55.764854Z",
     "shell.execute_reply": "2022-05-05T13:16:55.763841Z"
    },
    "papermill": {
     "duration": 8.537322,
     "end_time": "2022-05-05T13:16:55.767413",
     "exception": false,
     "start_time": "2022-05-05T13:16:47.230091",
     "status": "completed"
    },
    "tags": []
   },
   "outputs": [
    {
     "name": "stdout",
     "output_type": "stream",
     "text": [
      "(108, 8)\n",
      "(108, 8)\n"
     ]
    }
   ],
   "source": [
    "df = pd.read_csv('amz.csv')\n",
    "print(df.shape)\n",
    "df = df.head(500)\n",
    "print(df.shape)"
   ]
  },
  {
   "cell_type": "code",
   "execution_count": 42,
   "id": "aa5ac9df",
   "metadata": {},
   "outputs": [],
   "source": [
    "df['score'] = pd.to_numeric(df['score'], errors='coerce')"
   ]
  },
  {
   "cell_type": "code",
   "execution_count": 43,
   "id": "b1eb2d2a",
   "metadata": {
    "execution": {
     "iopub.execute_input": "2022-05-05T13:16:55.858541Z",
     "iopub.status.busy": "2022-05-05T13:16:55.857359Z",
     "iopub.status.idle": "2022-05-05T13:16:55.882061Z",
     "shell.execute_reply": "2022-05-05T13:16:55.880970Z"
    },
    "papermill": {
     "duration": 0.073034,
     "end_time": "2022-05-05T13:16:55.884548",
     "exception": false,
     "start_time": "2022-05-05T13:16:55.811514",
     "status": "completed"
    },
    "tags": []
   },
   "outputs": [
    {
     "data": {
      "text/html": [
       "<div>\n",
       "<style scoped>\n",
       "    .dataframe tbody tr th:only-of-type {\n",
       "        vertical-align: middle;\n",
       "    }\n",
       "\n",
       "    .dataframe tbody tr th {\n",
       "        vertical-align: top;\n",
       "    }\n",
       "\n",
       "    .dataframe thead th {\n",
       "        text-align: right;\n",
       "    }\n",
       "</style>\n",
       "<table border=\"1\" class=\"dataframe\">\n",
       "  <thead>\n",
       "    <tr style=\"text-align: right;\">\n",
       "      <th></th>\n",
       "      <th>id</th>\n",
       "      <th>author</th>\n",
       "      <th>score</th>\n",
       "      <th>title</th>\n",
       "      <th>content</th>\n",
       "      <th>date</th>\n",
       "      <th>verified</th>\n",
       "      <th>image_url</th>\n",
       "    </tr>\n",
       "  </thead>\n",
       "  <tbody>\n",
       "    <tr>\n",
       "      <th>0</th>\n",
       "      <td>70a1f0bb-d834-5509-bfcc-b06f3286bdd9</td>\n",
       "      <td>EightySeven</td>\n",
       "      <td>1.0</td>\n",
       "      <td>How has nobody mentioned the audio with this c...</td>\n",
       "      <td>\\nMy phone vibrates so bad in my hand by using...</td>\n",
       "      <td>Reviewed in the United States on July 5, 2021</td>\n",
       "      <td>Verified Purchase</td>\n",
       "      <td>NaN</td>\n",
       "    </tr>\n",
       "    <tr>\n",
       "      <th>1</th>\n",
       "      <td>d4152a05-94b9-53e6-837e-62b99fe6f9da</td>\n",
       "      <td>NerdTech</td>\n",
       "      <td>1.0</td>\n",
       "      <td>good looking and very protective</td>\n",
       "      <td>\\nI would buy again but dont need to.  works p...</td>\n",
       "      <td>Reviewed in the United States on March 29, 2021</td>\n",
       "      <td>Verified Purchase</td>\n",
       "      <td>https://m.media-amazon.com/images/I/71DL9PG2d-...</td>\n",
       "    </tr>\n",
       "    <tr>\n",
       "      <th>2</th>\n",
       "      <td>2f19c789-34ca-5a70-8063-2a695bc59c8c</td>\n",
       "      <td>William J. Marcellus</td>\n",
       "      <td>1.0</td>\n",
       "      <td>Cracked screen after first drop</td>\n",
       "      <td>\\nMy one month old Pixel 5 screen completely s...</td>\n",
       "      <td>Reviewed in the United States on January 4, 2022</td>\n",
       "      <td>Verified Purchase</td>\n",
       "      <td>NaN</td>\n",
       "    </tr>\n",
       "    <tr>\n",
       "      <th>3</th>\n",
       "      <td>1f6dc79d-9d29-5477-8472-6977990a001d</td>\n",
       "      <td>Rafael</td>\n",
       "      <td>1.0</td>\n",
       "      <td>Waste of money. Buy something else.</td>\n",
       "      <td>\\nIt definitely didn't protect my phone from a...</td>\n",
       "      <td>Reviewed in the United States on July 31, 2022</td>\n",
       "      <td>Verified Purchase</td>\n",
       "      <td>https://m.media-amazon.com/images/I/51O2Lb7mYl...</td>\n",
       "    </tr>\n",
       "    <tr>\n",
       "      <th>4</th>\n",
       "      <td>a0e6f306-3a9f-5c0d-8f1a-6a61d011eb55</td>\n",
       "      <td>James P</td>\n",
       "      <td>1.0</td>\n",
       "      <td>Disappointing</td>\n",
       "      <td>\\nIt didn't protect my phone from a 3 foot dro...</td>\n",
       "      <td>Reviewed in the United States on June 21, 2022</td>\n",
       "      <td>Verified Purchase</td>\n",
       "      <td>NaN</td>\n",
       "    </tr>\n",
       "  </tbody>\n",
       "</table>\n",
       "</div>"
      ],
      "text/plain": [
       "                                     id                author  score  \\\n",
       "0  70a1f0bb-d834-5509-bfcc-b06f3286bdd9           EightySeven    1.0   \n",
       "1  d4152a05-94b9-53e6-837e-62b99fe6f9da              NerdTech    1.0   \n",
       "2  2f19c789-34ca-5a70-8063-2a695bc59c8c  William J. Marcellus    1.0   \n",
       "3  1f6dc79d-9d29-5477-8472-6977990a001d                Rafael    1.0   \n",
       "4  a0e6f306-3a9f-5c0d-8f1a-6a61d011eb55               James P    1.0   \n",
       "\n",
       "                                               title  \\\n",
       "0  How has nobody mentioned the audio with this c...   \n",
       "1                   good looking and very protective   \n",
       "2                    Cracked screen after first drop   \n",
       "3                Waste of money. Buy something else.   \n",
       "4                                      Disappointing   \n",
       "\n",
       "                                             content  \\\n",
       "0  \\nMy phone vibrates so bad in my hand by using...   \n",
       "1  \\nI would buy again but dont need to.  works p...   \n",
       "2  \\nMy one month old Pixel 5 screen completely s...   \n",
       "3  \\nIt definitely didn't protect my phone from a...   \n",
       "4  \\nIt didn't protect my phone from a 3 foot dro...   \n",
       "\n",
       "                                               date           verified  \\\n",
       "0     Reviewed in the United States on July 5, 2021  Verified Purchase   \n",
       "1   Reviewed in the United States on March 29, 2021  Verified Purchase   \n",
       "2  Reviewed in the United States on January 4, 2022  Verified Purchase   \n",
       "3    Reviewed in the United States on July 31, 2022  Verified Purchase   \n",
       "4    Reviewed in the United States on June 21, 2022  Verified Purchase   \n",
       "\n",
       "                                           image_url  \n",
       "0                                                NaN  \n",
       "1  https://m.media-amazon.com/images/I/71DL9PG2d-...  \n",
       "2                                                NaN  \n",
       "3  https://m.media-amazon.com/images/I/51O2Lb7mYl...  \n",
       "4                                                NaN  "
      ]
     },
     "execution_count": 43,
     "metadata": {},
     "output_type": "execute_result"
    }
   ],
   "source": [
    "df.head()"
   ]
  },
  {
   "cell_type": "markdown",
   "id": "eed80b6b",
   "metadata": {
    "papermill": {
     "duration": 0.043361,
     "end_time": "2022-05-05T13:16:55.973118",
     "exception": false,
     "start_time": "2022-05-05T13:16:55.929757",
     "status": "completed"
    },
    "tags": []
   },
   "source": [
    "## Daten"
   ]
  },
  {
   "cell_type": "code",
   "execution_count": 44,
   "id": "51d81d6e",
   "metadata": {
    "execution": {
     "iopub.execute_input": "2022-05-05T13:16:56.062392Z",
     "iopub.status.busy": "2022-05-05T13:16:56.061640Z",
     "iopub.status.idle": "2022-05-05T13:16:56.318235Z",
     "shell.execute_reply": "2022-05-05T13:16:56.317466Z"
    },
    "papermill": {
     "duration": 0.303652,
     "end_time": "2022-05-05T13:16:56.320404",
     "exception": false,
     "start_time": "2022-05-05T13:16:56.016752",
     "status": "completed"
    },
    "tags": []
   },
   "outputs": [
    {
     "data": {
      "image/png": "[encoded data removed]",
      "text/plain": [
       "<Figure size 1000x500 with 1 Axes>"
      ]
     },
     "metadata": {},
     "output_type": "display_data"
    }
   ],
   "source": [
    "ax = df['score'].value_counts().sort_index() \\\n",
    "    .plot(kind='bar',\n",
    "          title='Count of Reviews by Stars',\n",
    "          figsize=(10, 5))\n",
    "ax.set_xlabel('Review Stars')\n",
    "plt.show()"
   ]
  },
  {
   "cell_type": "markdown",
   "id": "d791cd4b",
   "metadata": {},
   "source": [
    "Datensatz ist sehr gut verteilt, da wir beim Scraping von allen nahezu gleich viele Bewertungen genommen haben"
   ]
  },
  {
   "cell_type": "markdown",
   "id": "7f120e87",
   "metadata": {
    "papermill": {
     "duration": 0.045145,
     "end_time": "2022-05-05T13:16:56.409956",
     "exception": false,
     "start_time": "2022-05-05T13:16:56.364811",
     "status": "completed"
    },
    "tags": []
   },
   "source": [
    "## Basic NLTK (Natural Language Toolkit)"
   ]
  },
  {
   "cell_type": "code",
   "execution_count": 45,
   "id": "961a6354",
   "metadata": {
    "execution": {
     "iopub.execute_input": "2022-05-05T13:16:56.509015Z",
     "iopub.status.busy": "2022-05-05T13:16:56.507968Z",
     "iopub.status.idle": "2022-05-05T13:16:56.514055Z",
     "shell.execute_reply": "2022-05-05T13:16:56.512884Z"
    },
    "papermill": {
     "duration": 0.062049,
     "end_time": "2022-05-05T13:16:56.516323",
     "exception": false,
     "start_time": "2022-05-05T13:16:56.454274",
     "status": "completed"
    },
    "tags": []
   },
   "outputs": [
    {
     "name": "stdout",
     "output_type": "stream",
     "text": [
      "\n",
      "This is not worth more than $1.50. Cheap, thin rubber with no grip to the material. Super light weight due to the useless material.\n",
      "\n"
     ]
    }
   ],
   "source": [
    "example = df['content'][5]\n",
    "print(example)"
   ]
  },
  {
   "cell_type": "code",
   "execution_count": 46,
   "id": "9288e3d5",
   "metadata": {
    "execution": {
     "iopub.execute_input": "2022-05-05T13:16:56.608781Z",
     "iopub.status.busy": "2022-05-05T13:16:56.607770Z",
     "iopub.status.idle": "2022-05-05T13:16:56.630752Z",
     "shell.execute_reply": "2022-05-05T13:16:56.629923Z"
    },
    "papermill": {
     "duration": 0.071372,
     "end_time": "2022-05-05T13:16:56.632816",
     "exception": false,
     "start_time": "2022-05-05T13:16:56.561444",
     "status": "completed"
    },
    "tags": []
   },
   "outputs": [
    {
     "data": {
      "text/plain": [
       "['This', 'is', 'not', 'worth', 'more', 'than', '$', '1.50', '.', 'Cheap']"
      ]
     },
     "execution_count": 46,
     "metadata": {},
     "output_type": "execute_result"
    }
   ],
   "source": [
    "tokens = nltk.word_tokenize(example)\n",
    "tokens[:10]"
   ]
  },
  {
   "cell_type": "code",
   "execution_count": 47,
   "id": "376bacdc",
   "metadata": {
    "execution": {
     "iopub.execute_input": "2022-05-05T13:16:56.725635Z",
     "iopub.status.busy": "2022-05-05T13:16:56.724837Z",
     "iopub.status.idle": "2022-05-05T13:16:56.897438Z",
     "shell.execute_reply": "2022-05-05T13:16:56.896382Z"
    },
    "papermill": {
     "duration": 0.221776,
     "end_time": "2022-05-05T13:16:56.899905",
     "exception": false,
     "start_time": "2022-05-05T13:16:56.678129",
     "status": "completed"
    },
    "tags": []
   },
   "outputs": [
    {
     "data": {
      "text/plain": [
       "[('This', 'DT'),\n",
       " ('is', 'VBZ'),\n",
       " ('not', 'RB'),\n",
       " ('worth', 'IN'),\n",
       " ('more', 'JJR'),\n",
       " ('than', 'IN'),\n",
       " ('$', '$'),\n",
       " ('1.50', 'CD'),\n",
       " ('.', '.'),\n",
       " ('Cheap', 'NNP')]"
      ]
     },
     "execution_count": 47,
     "metadata": {},
     "output_type": "execute_result"
    }
   ],
   "source": [
    "# POS = Part-of-Speech Tagging\n",
    "tagged = nltk.pos_tag(tokens)\n",
    "tagged[:10]"
   ]
  },
  {
   "cell_type": "markdown",
   "id": "f782df16",
   "metadata": {},
   "source": [
    "DT = Determinierer (Artikel oder Begleiter)\n",
    "VBZ = Verb\n",
    "RB = Adverb\n",
    "IN = Preposition/Subordinating conjunction (Präposition, untergeordnete Konjunktion)\n",
    "JJR = Adjective, comparative (komparatives Adjektiv)\n",
    "CD = Cardinal number (Kardinalzahl)\n",
    "NNP = Proper noun, singular (Eigenname im Singular)\n",
    "NN = Noun, singular or mass(Nomen, Singular oder Massenbegriff)\n",
    "\n",
    "--> Fehler bei \"Cheap\"\n"
   ]
  },
  {
   "cell_type": "code",
   "execution_count": 48,
   "id": "dcbcc3ba",
   "metadata": {},
   "outputs": [
    {
     "name": "stdout",
     "output_type": "stream",
     "text": [
      "cheap\n"
     ]
    }
   ],
   "source": [
    "tokens[9] = \"cheap\"\n",
    "print(tokens[9])"
   ]
  },
  {
   "cell_type": "code",
   "execution_count": 49,
   "id": "5595d4fc",
   "metadata": {},
   "outputs": [
    {
     "data": {
      "text/plain": [
       "[('This', 'DT'),\n",
       " ('is', 'VBZ'),\n",
       " ('not', 'RB'),\n",
       " ('worth', 'IN'),\n",
       " ('more', 'JJR'),\n",
       " ('than', 'IN'),\n",
       " ('$', '$'),\n",
       " ('1.50', 'CD'),\n",
       " ('.', '.'),\n",
       " ('cheap', 'NN')]"
      ]
     },
     "execution_count": 49,
     "metadata": {},
     "output_type": "execute_result"
    }
   ],
   "source": [
    "tagged = nltk.pos_tag(tokens)\n",
    "tagged[:10]"
   ]
  },
  {
   "cell_type": "code",
   "execution_count": 50,
   "id": "1f788639",
   "metadata": {
    "execution": {
     "iopub.execute_input": "2022-05-05T13:16:56.993228Z",
     "iopub.status.busy": "2022-05-05T13:16:56.992900Z",
     "iopub.status.idle": "2022-05-05T13:16:57.184131Z",
     "shell.execute_reply": "2022-05-05T13:16:57.183295Z"
    },
    "papermill": {
     "duration": 0.241342,
     "end_time": "2022-05-05T13:16:57.186860",
     "exception": false,
     "start_time": "2022-05-05T13:16:56.945518",
     "status": "completed"
    },
    "tags": []
   },
   "outputs": [
    {
     "name": "stdout",
     "output_type": "stream",
     "text": [
      "(S\n",
      "  This/DT\n",
      "  is/VBZ\n",
      "  not/RB\n",
      "  worth/IN\n",
      "  more/JJR\n",
      "  than/IN\n",
      "  $/$\n",
      "  1.50/CD\n",
      "  ./.\n",
      "  cheap/NN\n",
      "  ,/,\n",
      "  thin/JJ\n",
      "  rubber/NN\n",
      "  with/IN\n",
      "  no/DT\n",
      "  grip/NN\n",
      "  to/TO\n",
      "  the/DT\n",
      "  material/NN\n",
      "  ./.\n",
      "  (PERSON Super/NNP)\n",
      "  light/JJ\n",
      "  weight/NN\n",
      "  due/JJ\n",
      "  to/TO\n",
      "  the/DT\n",
      "  useless/JJ\n",
      "  material/NN\n",
      "  ./.)\n"
     ]
    }
   ],
   "source": [
    "# Named Entity Recognition (NER)\n",
    "entities = nltk.chunk.ne_chunk(tagged)\n",
    "entities.pprint()"
   ]
  },
  {
   "cell_type": "markdown",
   "id": "1ba722a7",
   "metadata": {
    "papermill": {
     "duration": 0.046573,
     "end_time": "2022-05-05T13:16:57.280042",
     "exception": false,
     "start_time": "2022-05-05T13:16:57.233469",
     "status": "completed"
    },
    "tags": []
   },
   "source": [
    "# Step 1. VADER Seniment Scoring\n",
    "\n",
    "Wir benutzen NLTK's `SentimentIntensityAnalyzer`, um die neg/neu/pos Scores von dem Text zu bestimmen.\n",
    "\n",
    "- Hier wird der \"bag of words\" Ansatz benutzt:\n",
    "    1. Stop words wurden entfernt.\n",
    "    2. Jedes Wort hat einen Score und wird in einem gesamten Score kombiniert."
   ]
  },
  {
   "cell_type": "code",
   "execution_count": 51,
   "id": "8b04039d",
   "metadata": {
    "execution": {
     "iopub.execute_input": "2022-05-05T13:16:57.375055Z",
     "iopub.status.busy": "2022-05-05T13:16:57.374697Z",
     "iopub.status.idle": "2022-05-05T13:16:57.412693Z",
     "shell.execute_reply": "2022-05-05T13:16:57.411692Z"
    },
    "papermill": {
     "duration": 0.089388,
     "end_time": "2022-05-05T13:16:57.416134",
     "exception": false,
     "start_time": "2022-05-05T13:16:57.326746",
     "status": "completed"
    },
    "tags": []
   },
   "outputs": [],
   "source": [
    "from nltk.sentiment import SentimentIntensityAnalyzer\n",
    "from tqdm.notebook import tqdm\n",
    "\n",
    "sia = SentimentIntensityAnalyzer() #Vader"
   ]
  },
  {
   "cell_type": "markdown",
   "id": "4ae7281e",
   "metadata": {},
   "source": [
    "#### Compound\n",
    "- Ein Compound-Wert nahe 1 deutet auf stark positives Sentiment hin.\n",
    "- Ein Compound-Wert nahe -1 deutet auf stark negatives Sentiment hin.\n",
    "- Ein Compound-Wert nahe 0 deutet auf neutrales Sentiment hin.\n",
    "\n",
    "#### Pos,Neg,Neu\n",
    "- neg: Prozentsatz des Textes, der als negativ eingestuft wird.\n",
    "- neu: Prozentsatz des Textes, der als neutral eingestuft wird.\n",
    "- pos: Prozentsatz des Textes, der als positiv eingestuft wird.\n"
   ]
  },
  {
   "cell_type": "code",
   "execution_count": 52,
   "id": "6de9cd7c",
   "metadata": {
    "execution": {
     "iopub.execute_input": "2022-05-05T13:16:57.511819Z",
     "iopub.status.busy": "2022-05-05T13:16:57.511435Z",
     "iopub.status.idle": "2022-05-05T13:16:57.518090Z",
     "shell.execute_reply": "2022-05-05T13:16:57.517264Z"
    },
    "papermill": {
     "duration": 0.057151,
     "end_time": "2022-05-05T13:16:57.520575",
     "exception": false,
     "start_time": "2022-05-05T13:16:57.463424",
     "status": "completed"
    },
    "tags": []
   },
   "outputs": [
    {
     "data": {
      "text/plain": [
       "{'neg': 0.0, 'neu': 0.318, 'pos': 0.682, 'compound': 0.6468}"
      ]
     },
     "execution_count": 52,
     "metadata": {},
     "output_type": "execute_result"
    }
   ],
   "source": [
    "sia.polarity_scores('I am so happy!')"
   ]
  },
  {
   "cell_type": "code",
   "execution_count": 53,
   "id": "fbeff4cc",
   "metadata": {},
   "outputs": [
    {
     "data": {
      "text/plain": [
       "{'neg': 0.0, 'neu': 0.233, 'pos': 0.767, 'compound': 0.765}"
      ]
     },
     "execution_count": 53,
     "metadata": {},
     "output_type": "execute_result"
    }
   ],
   "source": [
    "sia.polarity_scores('Good case, fits perfect.')"
   ]
  },
  {
   "cell_type": "code",
   "execution_count": 54,
   "id": "4e777c60",
   "metadata": {
    "execution": {
     "iopub.execute_input": "2022-05-05T13:16:57.616279Z",
     "iopub.status.busy": "2022-05-05T13:16:57.615311Z",
     "iopub.status.idle": "2022-05-05T13:16:57.623029Z",
     "shell.execute_reply": "2022-05-05T13:16:57.622127Z"
    },
    "papermill": {
     "duration": 0.05812,
     "end_time": "2022-05-05T13:16:57.625093",
     "exception": false,
     "start_time": "2022-05-05T13:16:57.566973",
     "status": "completed"
    },
    "tags": []
   },
   "outputs": [
    {
     "data": {
      "text/plain": [
       "{'neg': 0.451, 'neu': 0.549, 'pos': 0.0, 'compound': -0.6249}"
      ]
     },
     "execution_count": 54,
     "metadata": {},
     "output_type": "execute_result"
    }
   ],
   "source": [
    "sia.polarity_scores('This is the worst thing ever.')"
   ]
  },
  {
   "cell_type": "code",
   "execution_count": 55,
   "id": "7ef2b004",
   "metadata": {
    "execution": {
     "iopub.execute_input": "2022-05-05T13:16:57.720840Z",
     "iopub.status.busy": "2022-05-05T13:16:57.720273Z",
     "iopub.status.idle": "2022-05-05T13:16:57.727584Z",
     "shell.execute_reply": "2022-05-05T13:16:57.726681Z"
    },
    "papermill": {
     "duration": 0.057698,
     "end_time": "2022-05-05T13:16:57.729566",
     "exception": false,
     "start_time": "2022-05-05T13:16:57.671868",
     "status": "completed"
    },
    "tags": []
   },
   "outputs": [
    {
     "name": "stdout",
     "output_type": "stream",
     "text": [
      "\n",
      "This is not worth more than $1.50. Cheap, thin rubber with no grip to the material. Super light weight due to the useless material.\n",
      "\n"
     ]
    },
    {
     "data": {
      "text/plain": [
       "{'neg': 0.218, 'neu': 0.654, 'pos': 0.128, 'compound': -0.194}"
      ]
     },
     "execution_count": 55,
     "metadata": {},
     "output_type": "execute_result"
    }
   ],
   "source": [
    "print(example)\n",
    "sia.polarity_scores(example)"
   ]
  },
  {
   "cell_type": "code",
   "execution_count": 56,
   "id": "78137d2a",
   "metadata": {
    "execution": {
     "iopub.execute_input": "2022-05-05T13:16:57.826141Z",
     "iopub.status.busy": "2022-05-05T13:16:57.825624Z",
     "iopub.status.idle": "2022-05-05T13:16:58.424856Z",
     "shell.execute_reply": "2022-05-05T13:16:58.423673Z"
    },
    "papermill": {
     "duration": 0.650564,
     "end_time": "2022-05-05T13:16:58.427263",
     "exception": false,
     "start_time": "2022-05-05T13:16:57.776699",
     "status": "completed"
    },
    "tags": []
   },
   "outputs": [
    {
     "data": {
      "application/vnd.jupyter.widget-view+json": {
       "model_id": "93f3229046e742409f47b6a90f4825bc",
       "version_major": 2,
       "version_minor": 0
      },
      "text/plain": [
       "  0%|          | 0/108 [00:00<?, ?it/s]"
      ]
     },
     "metadata": {},
     "output_type": "display_data"
    }
   ],
   "source": [
    "# Run the polarity score on the entire dataset\n",
    "res = {}\n",
    "for i, row in tqdm(df.iterrows(), total=len(df)):\n",
    "    text = row['content']\n",
    "    myid = row['id']\n",
    "    res[myid] = sia.polarity_scores(text)"
   ]
  },
  {
   "cell_type": "code",
   "execution_count": 57,
   "id": "375cf2a4",
   "metadata": {
    "execution": {
     "iopub.execute_input": "2022-05-05T13:16:58.526666Z",
     "iopub.status.busy": "2022-05-05T13:16:58.525900Z",
     "iopub.status.idle": "2022-05-05T13:16:58.565505Z",
     "shell.execute_reply": "2022-05-05T13:16:58.564430Z"
    },
    "papermill": {
     "duration": 0.092622,
     "end_time": "2022-05-05T13:16:58.568367",
     "exception": false,
     "start_time": "2022-05-05T13:16:58.475745",
     "status": "completed"
    },
    "tags": []
   },
   "outputs": [],
   "source": [
    "vaders = pd.DataFrame(res).T\n",
    "vaders = vaders.reset_index().rename(columns={'index': 'id'})\n",
    "vaders = vaders.merge(df, how='left')"
   ]
  },
  {
   "cell_type": "code",
   "execution_count": 58,
   "id": "68a573ab",
   "metadata": {
    "execution": {
     "iopub.execute_input": "2022-05-05T13:16:58.668468Z",
     "iopub.status.busy": "2022-05-05T13:16:58.667815Z",
     "iopub.status.idle": "2022-05-05T13:16:58.686869Z",
     "shell.execute_reply": "2022-05-05T13:16:58.685970Z"
    },
    "papermill": {
     "duration": 0.071353,
     "end_time": "2022-05-05T13:16:58.689144",
     "exception": false,
     "start_time": "2022-05-05T13:16:58.617791",
     "status": "completed"
    },
    "tags": []
   },
   "outputs": [
    {
     "data": {
      "text/html": [
       "<div>\n",
       "<style scoped>\n",
       "    .dataframe tbody tr th:only-of-type {\n",
       "        vertical-align: middle;\n",
       "    }\n",
       "\n",
       "    .dataframe tbody tr th {\n",
       "        vertical-align: top;\n",
       "    }\n",
       "\n",
       "    .dataframe thead th {\n",
       "        text-align: right;\n",
       "    }\n",
       "</style>\n",
       "<table border=\"1\" class=\"dataframe\">\n",
       "  <thead>\n",
       "    <tr style=\"text-align: right;\">\n",
       "      <th></th>\n",
       "      <th>id</th>\n",
       "      <th>neg</th>\n",
       "      <th>neu</th>\n",
       "      <th>pos</th>\n",
       "      <th>compound</th>\n",
       "      <th>author</th>\n",
       "      <th>score</th>\n",
       "      <th>title</th>\n",
       "      <th>content</th>\n",
       "      <th>date</th>\n",
       "      <th>verified</th>\n",
       "      <th>image_url</th>\n",
       "    </tr>\n",
       "  </thead>\n",
       "  <tbody>\n",
       "    <tr>\n",
       "      <th>0</th>\n",
       "      <td>70a1f0bb-d834-5509-bfcc-b06f3286bdd9</td>\n",
       "      <td>0.130</td>\n",
       "      <td>0.801</td>\n",
       "      <td>0.068</td>\n",
       "      <td>-0.6371</td>\n",
       "      <td>EightySeven</td>\n",
       "      <td>1.0</td>\n",
       "      <td>How has nobody mentioned the audio with this c...</td>\n",
       "      <td>\\nMy phone vibrates so bad in my hand by using...</td>\n",
       "      <td>Reviewed in the United States on July 5, 2021</td>\n",
       "      <td>Verified Purchase</td>\n",
       "      <td>NaN</td>\n",
       "    </tr>\n",
       "    <tr>\n",
       "      <th>1</th>\n",
       "      <td>d4152a05-94b9-53e6-837e-62b99fe6f9da</td>\n",
       "      <td>0.116</td>\n",
       "      <td>0.716</td>\n",
       "      <td>0.168</td>\n",
       "      <td>0.6289</td>\n",
       "      <td>NerdTech</td>\n",
       "      <td>1.0</td>\n",
       "      <td>good looking and very protective</td>\n",
       "      <td>\\nI would buy again but dont need to.  works p...</td>\n",
       "      <td>Reviewed in the United States on March 29, 2021</td>\n",
       "      <td>Verified Purchase</td>\n",
       "      <td>https://m.media-amazon.com/images/I/71DL9PG2d-...</td>\n",
       "    </tr>\n",
       "    <tr>\n",
       "      <th>2</th>\n",
       "      <td>2f19c789-34ca-5a70-8063-2a695bc59c8c</td>\n",
       "      <td>0.205</td>\n",
       "      <td>0.684</td>\n",
       "      <td>0.111</td>\n",
       "      <td>-0.5709</td>\n",
       "      <td>William J. Marcellus</td>\n",
       "      <td>1.0</td>\n",
       "      <td>Cracked screen after first drop</td>\n",
       "      <td>\\nMy one month old Pixel 5 screen completely s...</td>\n",
       "      <td>Reviewed in the United States on January 4, 2022</td>\n",
       "      <td>Verified Purchase</td>\n",
       "      <td>NaN</td>\n",
       "    </tr>\n",
       "    <tr>\n",
       "      <th>3</th>\n",
       "      <td>1f6dc79d-9d29-5477-8472-6977990a001d</td>\n",
       "      <td>0.191</td>\n",
       "      <td>0.733</td>\n",
       "      <td>0.076</td>\n",
       "      <td>-0.4726</td>\n",
       "      <td>Rafael</td>\n",
       "      <td>1.0</td>\n",
       "      <td>Waste of money. Buy something else.</td>\n",
       "      <td>\\nIt definitely didn't protect my phone from a...</td>\n",
       "      <td>Reviewed in the United States on July 31, 2022</td>\n",
       "      <td>Verified Purchase</td>\n",
       "      <td>https://m.media-amazon.com/images/I/51O2Lb7mYl...</td>\n",
       "    </tr>\n",
       "    <tr>\n",
       "      <th>4</th>\n",
       "      <td>a0e6f306-3a9f-5c0d-8f1a-6a61d011eb55</td>\n",
       "      <td>0.212</td>\n",
       "      <td>0.644</td>\n",
       "      <td>0.144</td>\n",
       "      <td>-0.0987</td>\n",
       "      <td>James P</td>\n",
       "      <td>1.0</td>\n",
       "      <td>Disappointing</td>\n",
       "      <td>\\nIt didn't protect my phone from a 3 foot dro...</td>\n",
       "      <td>Reviewed in the United States on June 21, 2022</td>\n",
       "      <td>Verified Purchase</td>\n",
       "      <td>NaN</td>\n",
       "    </tr>\n",
       "  </tbody>\n",
       "</table>\n",
       "</div>"
      ],
      "text/plain": [
       "                                     id    neg    neu    pos  compound  \\\n",
       "0  70a1f0bb-d834-5509-bfcc-b06f3286bdd9  0.130  0.801  0.068   -0.6371   \n",
       "1  d4152a05-94b9-53e6-837e-62b99fe6f9da  0.116  0.716  0.168    0.6289   \n",
       "2  2f19c789-34ca-5a70-8063-2a695bc59c8c  0.205  0.684  0.111   -0.5709   \n",
       "3  1f6dc79d-9d29-5477-8472-6977990a001d  0.191  0.733  0.076   -0.4726   \n",
       "4  a0e6f306-3a9f-5c0d-8f1a-6a61d011eb55  0.212  0.644  0.144   -0.0987   \n",
       "\n",
       "                 author  score  \\\n",
       "0           EightySeven    1.0   \n",
       "1              NerdTech    1.0   \n",
       "2  William J. Marcellus    1.0   \n",
       "3                Rafael    1.0   \n",
       "4               James P    1.0   \n",
       "\n",
       "                                               title  \\\n",
       "0  How has nobody mentioned the audio with this c...   \n",
       "1                   good looking and very protective   \n",
       "2                    Cracked screen after first drop   \n",
       "3                Waste of money. Buy something else.   \n",
       "4                                      Disappointing   \n",
       "\n",
       "                                             content  \\\n",
       "0  \\nMy phone vibrates so bad in my hand by using...   \n",
       "1  \\nI would buy again but dont need to.  works p...   \n",
       "2  \\nMy one month old Pixel 5 screen completely s...   \n",
       "3  \\nIt definitely didn't protect my phone from a...   \n",
       "4  \\nIt didn't protect my phone from a 3 foot dro...   \n",
       "\n",
       "                                               date           verified  \\\n",
       "0     Reviewed in the United States on July 5, 2021  Verified Purchase   \n",
       "1   Reviewed in the United States on March 29, 2021  Verified Purchase   \n",
       "2  Reviewed in the United States on January 4, 2022  Verified Purchase   \n",
       "3    Reviewed in the United States on July 31, 2022  Verified Purchase   \n",
       "4    Reviewed in the United States on June 21, 2022  Verified Purchase   \n",
       "\n",
       "                                           image_url  \n",
       "0                                                NaN  \n",
       "1  https://m.media-amazon.com/images/I/71DL9PG2d-...  \n",
       "2                                                NaN  \n",
       "3  https://m.media-amazon.com/images/I/51O2Lb7mYl...  \n",
       "4                                                NaN  "
      ]
     },
     "execution_count": 58,
     "metadata": {},
     "output_type": "execute_result"
    }
   ],
   "source": [
    "vaders.head()"
   ]
  },
  {
   "cell_type": "markdown",
   "id": "7b29cf86",
   "metadata": {
    "papermill": {
     "duration": 0.048405,
     "end_time": "2022-05-05T13:16:58.786797",
     "exception": false,
     "start_time": "2022-05-05T13:16:58.738392",
     "status": "completed"
    },
    "tags": []
   },
   "source": [
    "## Plot VADER results"
   ]
  },
  {
   "cell_type": "code",
   "execution_count": 59,
   "id": "3b48c03d",
   "metadata": {
    "execution": {
     "iopub.execute_input": "2022-05-05T13:16:58.886848Z",
     "iopub.status.busy": "2022-05-05T13:16:58.886105Z",
     "iopub.status.idle": "2022-05-05T13:16:59.234988Z",
     "shell.execute_reply": "2022-05-05T13:16:59.234087Z"
    },
    "papermill": {
     "duration": 0.402272,
     "end_time": "2022-05-05T13:16:59.237643",
     "exception": false,
     "start_time": "2022-05-05T13:16:58.835371",
     "status": "completed"
    },
    "tags": []
   },
   "outputs": [
    {
     "data": {
      "image/png": "[encoded data removed]",
      "text/plain": [
       "<Figure size 640x480 with 1 Axes>"
      ]
     },
     "metadata": {},
     "output_type": "display_data"
    }
   ],
   "source": [
    "ax = sns.barplot(data=vaders, x='score', y='compound')\n",
    "ax.set_title('Compund Wert von Amazon Bewertungen')\n",
    "plt.show()"
   ]
  },
  {
   "cell_type": "markdown",
   "id": "c42bcc79",
   "metadata": {},
   "source": [
    "Wie man sieht passt der Compund Wert zu den Scores."
   ]
  },
  {
   "cell_type": "code",
   "execution_count": 80,
   "id": "b7dda7d1",
   "metadata": {},
   "outputs": [
    {
     "data": {
      "image/png": "[encoded data removed]",
      "text/plain": [
       "<Figure size 1200x600 with 3 Axes>"
      ]
     },
     "metadata": {},
     "output_type": "display_data"
    }
   ],
   "source": [
    "fig, axs = plt.subplots(1, 3, figsize=(12, 6))\n",
    "\n",
    "sns.boxplot(data=vaders, x='score', y='pos', ax=axs[0])\n",
    "sns.boxplot(data=vaders, x='score', y='neu', ax=axs[1])\n",
    "sns.boxplot(data=vaders, x='score', y='neg', ax=axs[2])\n",
    "\n",
    "# Setzen der y-Achsenlimits für alle Achsen auf [0, 1]\n",
    "for ax in axs:\n",
    "    ax.set_ylim(0, 1.1)\n",
    "\n",
    "# Titel setzen\n",
    "axs[0].set_title('Positive')\n",
    "axs[1].set_title('Neutral')\n",
    "axs[2].set_title('Negative')\n",
    "\n",
    "# Layout anpassen\n",
    "plt.tight_layout()\n",
    "\n",
    "# Anzeigen des Plots\n",
    "plt.show()"
   ]
  },
  {
   "cell_type": "markdown",
   "id": "e0da9e78",
   "metadata": {},
   "source": [
    "Positive Worte werden tendenziell bei höheren Bewertungen verwendet, während negative Worte bei niedrigeren Bewertungen verwendet werden.\n",
    "Neutrale gibt es überall."
   ]
  },
  {
   "cell_type": "markdown",
   "id": "8284d043",
   "metadata": {
    "papermill": {
     "duration": 0.051663,
     "end_time": "2022-05-05T13:17:00.555740",
     "exception": false,
     "start_time": "2022-05-05T13:17:00.504077",
     "status": "completed"
    },
    "tags": []
   },
   "source": [
    "# Step 3. Pretrained Model Roberta \n",
    "\n",
    "- Use a model trained of a large corpus of data.\n",
    "- Transformer model accounts for the words but also the context related to other words."
   ]
  },
  {
   "cell_type": "code",
   "execution_count": 61,
   "id": "6b05183d",
   "metadata": {
    "execution": {
     "iopub.execute_input": "2022-05-05T13:17:00.660992Z",
     "iopub.status.busy": "2022-05-05T13:17:00.660638Z",
     "iopub.status.idle": "2022-05-05T13:17:07.529006Z",
     "shell.execute_reply": "2022-05-05T13:17:07.527954Z"
    },
    "papermill": {
     "duration": 6.924232,
     "end_time": "2022-05-05T13:17:07.531880",
     "exception": false,
     "start_time": "2022-05-05T13:17:00.607648",
     "status": "completed"
    },
    "tags": []
   },
   "outputs": [],
   "source": [
    "from transformers import AutoTokenizer\n",
    "from transformers import AutoModelForSequenceClassification\n",
    "from scipy.special import softmax"
   ]
  },
  {
   "cell_type": "code",
   "execution_count": 62,
   "id": "26ffb071",
   "metadata": {
    "execution": {
     "iopub.execute_input": "2022-05-05T13:17:07.638903Z",
     "iopub.status.busy": "2022-05-05T13:17:07.637826Z",
     "iopub.status.idle": "2022-05-05T13:17:40.090861Z",
     "shell.execute_reply": "2022-05-05T13:17:40.089889Z"
    },
    "papermill": {
     "duration": 32.50923,
     "end_time": "2022-05-05T13:17:40.093749",
     "exception": false,
     "start_time": "2022-05-05T13:17:07.584519",
     "status": "completed"
    },
    "tags": []
   },
   "outputs": [
    {
     "name": "stderr",
     "output_type": "stream",
     "text": [
      "/Users/danielpolak/miniconda3/envs/webmining/lib/python3.11/site-packages/huggingface_hub/file_download.py:1132: FutureWarning: `resume_download` is deprecated and will be removed in version 1.0.0. Downloads always resume when possible. If you want to force a new download, use `force_download=True`.\n",
      "  warnings.warn(\n"
     ]
    }
   ],
   "source": [
    "MODEL = f\"cardiffnlp/twitter-roberta-base-sentiment\"\n",
    "tokenizer = AutoTokenizer.from_pretrained(MODEL)\n",
    "model = AutoModelForSequenceClassification.from_pretrained(MODEL)"
   ]
  },
  {
   "cell_type": "code",
   "execution_count": 63,
   "id": "96e69c91",
   "metadata": {
    "execution": {
     "iopub.execute_input": "2022-05-05T13:17:40.211381Z",
     "iopub.status.busy": "2022-05-05T13:17:40.210458Z",
     "iopub.status.idle": "2022-05-05T13:17:40.219748Z",
     "shell.execute_reply": "2022-05-05T13:17:40.218436Z"
    },
    "papermill": {
     "duration": 0.069563,
     "end_time": "2022-05-05T13:17:40.221986",
     "exception": false,
     "start_time": "2022-05-05T13:17:40.152423",
     "status": "completed"
    },
    "tags": []
   },
   "outputs": [
    {
     "name": "stdout",
     "output_type": "stream",
     "text": [
      "\n",
      "This is not worth more than $1.50. Cheap, thin rubber with no grip to the material. Super light weight due to the useless material.\n",
      "\n"
     ]
    },
    {
     "data": {
      "text/plain": [
       "{'neg': 0.218, 'neu': 0.654, 'pos': 0.128, 'compound': -0.194}"
      ]
     },
     "execution_count": 63,
     "metadata": {},
     "output_type": "execute_result"
    }
   ],
   "source": [
    "# VADER results on example\n",
    "print(example)\n",
    "sia.polarity_scores(example)"
   ]
  },
  {
   "cell_type": "code",
   "execution_count": 64,
   "id": "dada19a5",
   "metadata": {
    "execution": {
     "iopub.execute_input": "2022-05-05T13:17:40.337743Z",
     "iopub.status.busy": "2022-05-05T13:17:40.337047Z",
     "iopub.status.idle": "2022-05-05T13:17:40.580183Z",
     "shell.execute_reply": "2022-05-05T13:17:40.579435Z"
    },
    "papermill": {
     "duration": 0.305753,
     "end_time": "2022-05-05T13:17:40.583569",
     "exception": false,
     "start_time": "2022-05-05T13:17:40.277816",
     "status": "completed"
    },
    "tags": []
   },
   "outputs": [
    {
     "name": "stdout",
     "output_type": "stream",
     "text": [
      "{'roberta_neg': 0.9336949, 'roberta_neu': 0.059390217, 'roberta_pos': 0.0069149947}\n"
     ]
    }
   ],
   "source": [
    "# Run for Roberta Model\n",
    "encoded_text = tokenizer(example, return_tensors='pt')\n",
    "output = model(**encoded_text)\n",
    "scores = output[0][0].detach().numpy()\n",
    "scores = softmax(scores)\n",
    "scores_dict = {\n",
    "    'roberta_neg' : scores[0],\n",
    "    'roberta_neu' : scores[1],\n",
    "    'roberta_pos' : scores[2]\n",
    "}\n",
    "print(scores_dict)"
   ]
  },
  {
   "cell_type": "code",
   "execution_count": 65,
   "id": "106aa26b",
   "metadata": {
    "execution": {
     "iopub.execute_input": "2022-05-05T13:17:40.709572Z",
     "iopub.status.busy": "2022-05-05T13:17:40.708503Z",
     "iopub.status.idle": "2022-05-05T13:17:40.716037Z",
     "shell.execute_reply": "2022-05-05T13:17:40.714910Z"
    },
    "papermill": {
     "duration": 0.071336,
     "end_time": "2022-05-05T13:17:40.718066",
     "exception": false,
     "start_time": "2022-05-05T13:17:40.646730",
     "status": "completed"
    },
    "tags": []
   },
   "outputs": [],
   "source": [
    "def polarity_scores_roberta(example):\n",
    "    encoded_text = tokenizer(example, return_tensors='pt')\n",
    "    output = model(**encoded_text)\n",
    "    scores = output[0][0].detach().numpy()\n",
    "    scores = softmax(scores)\n",
    "    scores_dict = {\n",
    "        'roberta_neg' : scores[0],\n",
    "        'roberta_neu' : scores[1],\n",
    "        'roberta_pos' : scores[2]\n",
    "    }\n",
    "    return scores_dict"
   ]
  },
  {
   "cell_type": "code",
   "execution_count": 66,
   "id": "4ce5a321",
   "metadata": {
    "execution": {
     "iopub.execute_input": "2022-05-05T13:17:40.832376Z",
     "iopub.status.busy": "2022-05-05T13:17:40.831785Z",
     "iopub.status.idle": "2022-05-05T13:19:23.171886Z",
     "shell.execute_reply": "2022-05-05T13:19:23.170452Z"
    },
    "papermill": {
     "duration": 102.401794,
     "end_time": "2022-05-05T13:19:23.175521",
     "exception": false,
     "start_time": "2022-05-05T13:17:40.773727",
     "status": "completed"
    },
    "tags": []
   },
   "outputs": [
    {
     "data": {
      "application/vnd.jupyter.widget-view+json": {
       "model_id": "d3ce9bad1620410dbe46a9b033f6abd1",
       "version_major": 2,
       "version_minor": 0
      },
      "text/plain": [
       "  0%|          | 0/108 [00:00<?, ?it/s]"
      ]
     },
     "metadata": {},
     "output_type": "display_data"
    }
   ],
   "source": [
    "res = {}\n",
    "for i, row in tqdm(df.iterrows(), total=len(df)):\n",
    "    try:\n",
    "        text = row['content']\n",
    "        myid = row['id']\n",
    "        vader_result = sia.polarity_scores(text)\n",
    "        vader_result_rename = {}\n",
    "        for key, value in vader_result.items():\n",
    "            vader_result_rename[f\"vader_{key}\"] = value\n",
    "        roberta_result = polarity_scores_roberta(text)\n",
    "        both = {**vader_result_rename, **roberta_result}\n",
    "        res[myid] = both\n",
    "    except RuntimeError:\n",
    "        print(f'Broke for id {myid}')"
   ]
  },
  {
   "cell_type": "code",
   "execution_count": 67,
   "id": "55e542e5",
   "metadata": {
    "execution": {
     "iopub.execute_input": "2022-05-05T13:19:23.320147Z",
     "iopub.status.busy": "2022-05-05T13:19:23.319203Z",
     "iopub.status.idle": "2022-05-05T13:19:23.372276Z",
     "shell.execute_reply": "2022-05-05T13:19:23.371572Z"
    },
    "papermill": {
     "duration": 0.123954,
     "end_time": "2022-05-05T13:19:23.375117",
     "exception": false,
     "start_time": "2022-05-05T13:19:23.251163",
     "status": "completed"
    },
    "tags": []
   },
   "outputs": [],
   "source": [
    "results_df = pd.DataFrame(res).T\n",
    "results_df = results_df.reset_index().rename(columns={'index': 'id'})\n",
    "results_df = results_df.merge(df, how='left')"
   ]
  },
  {
   "cell_type": "markdown",
   "id": "b6193063",
   "metadata": {
    "papermill": {
     "duration": 0.063959,
     "end_time": "2022-05-05T13:19:23.833747",
     "exception": false,
     "start_time": "2022-05-05T13:19:23.769788",
     "status": "completed"
    },
    "tags": []
   },
   "source": [
    "# Step 3. Combine and compare"
   ]
  },
  {
   "cell_type": "code",
   "execution_count": 68,
   "id": "4b4c7c2d",
   "metadata": {},
   "outputs": [],
   "source": [
    "#Es geht nur darum welche Art(pos,neu,neg) von Wörtern werden für eine Bewertung/Score genutzt. "
   ]
  },
  {
   "cell_type": "code",
   "execution_count": 87,
   "id": "41523f2d",
   "metadata": {},
   "outputs": [
    {
     "data": {
      "image/png": "[encoded data removed]",
      "text/plain": [
       "<Figure size 1200x600 with 3 Axes>"
      ]
     },
     "metadata": {},
     "output_type": "display_data"
    }
   ],
   "source": [
    "fig, axs = plt.subplots(1, 3, figsize=(12, 6))\n",
    "\n",
    "sns.boxplot(data=vaders, x='score', y='pos', ax=axs[0])\n",
    "sns.boxplot(data=vaders, x='score', y='neu', ax=axs[1])\n",
    "sns.boxplot(data=vaders, x='score', y='neg', ax=axs[2])\n",
    "\n",
    "# Setzen der y-Achsenlimits für alle Achsen auf [0, 1]\n",
    "for ax in axs:\n",
    "    ax.set_ylim(-0.01, 1.1)\n",
    "\n",
    "# Titel setzen\n",
    "axs[0].set_title('Vader Positive')\n",
    "axs[1].set_title('Vader Neutral')\n",
    "axs[2].set_title('Vader Negative')\n",
    "\n",
    "# Layout anpassen\n",
    "plt.tight_layout()\n",
    "\n",
    "# Anzeigen des Plots\n",
    "plt.show()"
   ]
  },
  {
   "cell_type": "code",
   "execution_count": 89,
   "id": "55841328",
   "metadata": {},
   "outputs": [
    {
     "data": {
      "image/png": "[encoded data removed]",
      "text/plain": [
       "<Figure size 1200x600 with 3 Axes>"
      ]
     },
     "metadata": {},
     "output_type": "display_data"
    }
   ],
   "source": [
    "fig, axs = plt.subplots(1, 3, figsize=(12, 6))\n",
    "\n",
    "sns.boxplot(data=results_df, x='score', y='roberta_pos', ax=axs[0], color='#1f77b4')\n",
    "sns.boxplot(data=results_df, x='score', y='roberta_neu', ax=axs[1], color='#1f77b4')\n",
    "sns.boxplot(data=results_df, x='score', y='roberta_neg', ax=axs[2], color='#1f77b4')\n",
    "\n",
    "# Setzen der y-Achsenlimits für alle Achsen auf [0, 1]\n",
    "for ax in axs:\n",
    "    ax.set_ylim(-0.01, 1.1)\n",
    "\n",
    "# Titel setzen\n",
    "axs[0].set_title('Roberta Positive')\n",
    "axs[1].set_title('Roberta Neutral')\n",
    "axs[2].set_title('Roberta Negative')\n",
    "\n",
    "# Layout anpassen\n",
    "plt.tight_layout()\n",
    "\n",
    "# Anzeigen des Plots\n",
    "plt.show()"
   ]
  },
  {
   "cell_type": "markdown",
   "id": "7ff79fef",
   "metadata": {
    "papermill": {
     "duration": 0.076545,
     "end_time": "2022-05-05T13:19:36.331105",
     "exception": false,
     "start_time": "2022-05-05T13:19:36.254560",
     "status": "completed"
    },
    "tags": []
   },
   "source": [
    "# Step 4: Review Examples:\n",
    "\n",
    "- Positive 1-Star and Negative 5-Star Reviews\n",
    "\n",
    "Lets look at some examples where the model scoring and review score differ the most."
   ]
  },
  {
   "cell_type": "code",
   "execution_count": 29,
   "id": "cb73e0c8",
   "metadata": {},
   "outputs": [
    {
     "data": {
      "text/html": [
       "<div>\n",
       "<style scoped>\n",
       "    .dataframe tbody tr th:only-of-type {\n",
       "        vertical-align: middle;\n",
       "    }\n",
       "\n",
       "    .dataframe tbody tr th {\n",
       "        vertical-align: top;\n",
       "    }\n",
       "\n",
       "    .dataframe thead th {\n",
       "        text-align: right;\n",
       "    }\n",
       "</style>\n",
       "<table border=\"1\" class=\"dataframe\">\n",
       "  <thead>\n",
       "    <tr style=\"text-align: right;\">\n",
       "      <th></th>\n",
       "      <th>id</th>\n",
       "      <th>vader_neg</th>\n",
       "      <th>vader_neu</th>\n",
       "      <th>vader_pos</th>\n",
       "      <th>vader_compound</th>\n",
       "      <th>roberta_neg</th>\n",
       "      <th>roberta_neu</th>\n",
       "      <th>roberta_pos</th>\n",
       "      <th>author</th>\n",
       "      <th>score</th>\n",
       "      <th>title</th>\n",
       "      <th>content</th>\n",
       "      <th>date</th>\n",
       "      <th>verified</th>\n",
       "      <th>image_url</th>\n",
       "    </tr>\n",
       "  </thead>\n",
       "  <tbody>\n",
       "    <tr>\n",
       "      <th>0</th>\n",
       "      <td>70a1f0bb-d834-5509-bfcc-b06f3286bdd9</td>\n",
       "      <td>0.130</td>\n",
       "      <td>0.801</td>\n",
       "      <td>0.068</td>\n",
       "      <td>-0.6371</td>\n",
       "      <td>0.961939</td>\n",
       "      <td>0.034244</td>\n",
       "      <td>0.003816</td>\n",
       "      <td>EightySeven</td>\n",
       "      <td>1.0</td>\n",
       "      <td>How has nobody mentioned the audio with this c...</td>\n",
       "      <td>\\nMy phone vibrates so bad in my hand by using...</td>\n",
       "      <td>Reviewed in the United States on July 5, 2021</td>\n",
       "      <td>Verified Purchase</td>\n",
       "      <td>NaN</td>\n",
       "    </tr>\n",
       "    <tr>\n",
       "      <th>1</th>\n",
       "      <td>d4152a05-94b9-53e6-837e-62b99fe6f9da</td>\n",
       "      <td>0.116</td>\n",
       "      <td>0.716</td>\n",
       "      <td>0.168</td>\n",
       "      <td>0.6289</td>\n",
       "      <td>0.048756</td>\n",
       "      <td>0.148157</td>\n",
       "      <td>0.803086</td>\n",
       "      <td>NerdTech</td>\n",
       "      <td>1.0</td>\n",
       "      <td>good looking and very protective</td>\n",
       "      <td>\\nI would buy again but dont need to.  works p...</td>\n",
       "      <td>Reviewed in the United States on March 29, 2021</td>\n",
       "      <td>Verified Purchase</td>\n",
       "      <td>https://m.media-amazon.com/images/I/71DL9PG2d-...</td>\n",
       "    </tr>\n",
       "    <tr>\n",
       "      <th>2</th>\n",
       "      <td>2f19c789-34ca-5a70-8063-2a695bc59c8c</td>\n",
       "      <td>0.205</td>\n",
       "      <td>0.684</td>\n",
       "      <td>0.111</td>\n",
       "      <td>-0.5709</td>\n",
       "      <td>0.924532</td>\n",
       "      <td>0.067372</td>\n",
       "      <td>0.008096</td>\n",
       "      <td>William J. Marcellus</td>\n",
       "      <td>1.0</td>\n",
       "      <td>Cracked screen after first drop</td>\n",
       "      <td>\\nMy one month old Pixel 5 screen completely s...</td>\n",
       "      <td>Reviewed in the United States on January 4, 2022</td>\n",
       "      <td>Verified Purchase</td>\n",
       "      <td>NaN</td>\n",
       "    </tr>\n",
       "    <tr>\n",
       "      <th>3</th>\n",
       "      <td>1f6dc79d-9d29-5477-8472-6977990a001d</td>\n",
       "      <td>0.191</td>\n",
       "      <td>0.733</td>\n",
       "      <td>0.076</td>\n",
       "      <td>-0.4726</td>\n",
       "      <td>0.931671</td>\n",
       "      <td>0.062395</td>\n",
       "      <td>0.005935</td>\n",
       "      <td>Rafael</td>\n",
       "      <td>1.0</td>\n",
       "      <td>Waste of money. Buy something else.</td>\n",
       "      <td>\\nIt definitely didn't protect my phone from a...</td>\n",
       "      <td>Reviewed in the United States on July 31, 2022</td>\n",
       "      <td>Verified Purchase</td>\n",
       "      <td>https://m.media-amazon.com/images/I/51O2Lb7mYl...</td>\n",
       "    </tr>\n",
       "    <tr>\n",
       "      <th>4</th>\n",
       "      <td>a0e6f306-3a9f-5c0d-8f1a-6a61d011eb55</td>\n",
       "      <td>0.212</td>\n",
       "      <td>0.644</td>\n",
       "      <td>0.144</td>\n",
       "      <td>-0.0987</td>\n",
       "      <td>0.573507</td>\n",
       "      <td>0.375040</td>\n",
       "      <td>0.051453</td>\n",
       "      <td>James P</td>\n",
       "      <td>1.0</td>\n",
       "      <td>Disappointing</td>\n",
       "      <td>\\nIt didn't protect my phone from a 3 foot dro...</td>\n",
       "      <td>Reviewed in the United States on June 21, 2022</td>\n",
       "      <td>Verified Purchase</td>\n",
       "      <td>NaN</td>\n",
       "    </tr>\n",
       "  </tbody>\n",
       "</table>\n",
       "</div>"
      ],
      "text/plain": [
       "                                     id  vader_neg  vader_neu  vader_pos  \\\n",
       "0  70a1f0bb-d834-5509-bfcc-b06f3286bdd9      0.130      0.801      0.068   \n",
       "1  d4152a05-94b9-53e6-837e-62b99fe6f9da      0.116      0.716      0.168   \n",
       "2  2f19c789-34ca-5a70-8063-2a695bc59c8c      0.205      0.684      0.111   \n",
       "3  1f6dc79d-9d29-5477-8472-6977990a001d      0.191      0.733      0.076   \n",
       "4  a0e6f306-3a9f-5c0d-8f1a-6a61d011eb55      0.212      0.644      0.144   \n",
       "\n",
       "   vader_compound  roberta_neg  roberta_neu  roberta_pos  \\\n",
       "0         -0.6371     0.961939     0.034244     0.003816   \n",
       "1          0.6289     0.048756     0.148157     0.803086   \n",
       "2         -0.5709     0.924532     0.067372     0.008096   \n",
       "3         -0.4726     0.931671     0.062395     0.005935   \n",
       "4         -0.0987     0.573507     0.375040     0.051453   \n",
       "\n",
       "                 author  score  \\\n",
       "0           EightySeven    1.0   \n",
       "1              NerdTech    1.0   \n",
       "2  William J. Marcellus    1.0   \n",
       "3                Rafael    1.0   \n",
       "4               James P    1.0   \n",
       "\n",
       "                                               title  \\\n",
       "0  How has nobody mentioned the audio with this c...   \n",
       "1                   good looking and very protective   \n",
       "2                    Cracked screen after first drop   \n",
       "3                Waste of money. Buy something else.   \n",
       "4                                      Disappointing   \n",
       "\n",
       "                                             content  \\\n",
       "0  \\nMy phone vibrates so bad in my hand by using...   \n",
       "1  \\nI would buy again but dont need to.  works p...   \n",
       "2  \\nMy one month old Pixel 5 screen completely s...   \n",
       "3  \\nIt definitely didn't protect my phone from a...   \n",
       "4  \\nIt didn't protect my phone from a 3 foot dro...   \n",
       "\n",
       "                                               date           verified  \\\n",
       "0     Reviewed in the United States on July 5, 2021  Verified Purchase   \n",
       "1   Reviewed in the United States on March 29, 2021  Verified Purchase   \n",
       "2  Reviewed in the United States on January 4, 2022  Verified Purchase   \n",
       "3    Reviewed in the United States on July 31, 2022  Verified Purchase   \n",
       "4    Reviewed in the United States on June 21, 2022  Verified Purchase   \n",
       "\n",
       "                                           image_url  \n",
       "0                                                NaN  \n",
       "1  https://m.media-amazon.com/images/I/71DL9PG2d-...  \n",
       "2                                                NaN  \n",
       "3  https://m.media-amazon.com/images/I/51O2Lb7mYl...  \n",
       "4                                                NaN  "
      ]
     },
     "execution_count": 29,
     "metadata": {},
     "output_type": "execute_result"
    }
   ],
   "source": [
    "results_df.head()"
   ]
  },
  {
   "cell_type": "code",
   "execution_count": 30,
   "id": "9af7ab12",
   "metadata": {
    "execution": {
     "iopub.execute_input": "2022-05-05T13:19:36.487022Z",
     "iopub.status.busy": "2022-05-05T13:19:36.486435Z",
     "iopub.status.idle": "2022-05-05T13:19:36.501635Z",
     "shell.execute_reply": "2022-05-05T13:19:36.500884Z"
    },
    "papermill": {
     "duration": 0.09598,
     "end_time": "2022-05-05T13:19:36.503866",
     "exception": false,
     "start_time": "2022-05-05T13:19:36.407886",
     "status": "completed"
    },
    "tags": []
   },
   "outputs": [
    {
     "data": {
      "text/plain": [
       "'\\nThe case is okay but there is issue while using it i triggered accidental touches of case due to edge to edge display and gesture control becomes tough in few times\\n'"
      ]
     },
     "execution_count": 30,
     "metadata": {},
     "output_type": "execute_result"
    }
   ],
   "source": [
    "results_df.query('score == 1') \\\n",
    "    .sort_values('roberta_pos', ascending=False)['content'].values[0]"
   ]
  },
  {
   "cell_type": "code",
   "execution_count": 31,
   "id": "35d0b663",
   "metadata": {
    "execution": {
     "iopub.execute_input": "2022-05-05T13:19:36.661786Z",
     "iopub.status.busy": "2022-05-05T13:19:36.661266Z",
     "iopub.status.idle": "2022-05-05T13:19:36.670602Z",
     "shell.execute_reply": "2022-05-05T13:19:36.669893Z"
    },
    "papermill": {
     "duration": 0.090222,
     "end_time": "2022-05-05T13:19:36.672801",
     "exception": false,
     "start_time": "2022-05-05T13:19:36.582579",
     "status": "completed"
    },
    "tags": []
   },
   "outputs": [
    {
     "data": {
      "text/plain": [
       "\"\\nI would buy again but dont need to.  works perfectly and looks nice!Update.Have the green back of phone and case left imprint of it's fancy design on the back of the phone that won't come off.  Good luck to me to sell this phone now.  Damages your phone.\\n\""
      ]
     },
     "execution_count": 31,
     "metadata": {},
     "output_type": "execute_result"
    }
   ],
   "source": [
    "results_df.query('score == 1') \\\n",
    "    .sort_values('vader_pos', ascending=False)['content'].values[0]"
   ]
  },
  {
   "cell_type": "code",
   "execution_count": 32,
   "id": "fef6e269",
   "metadata": {
    "execution": {
     "iopub.execute_input": "2022-05-05T13:19:36.994630Z",
     "iopub.status.busy": "2022-05-05T13:19:36.993976Z",
     "iopub.status.idle": "2022-05-05T13:19:37.004608Z",
     "shell.execute_reply": "2022-05-05T13:19:37.003840Z"
    },
    "papermill": {
     "duration": 0.092678,
     "end_time": "2022-05-05T13:19:37.006708",
     "exception": false,
     "start_time": "2022-05-05T13:19:36.914030",
     "status": "completed"
    },
    "tags": []
   },
   "outputs": [
    {
     "data": {
      "text/plain": [
       "\"\\nI drop my phone constantly.Not just small drops either, sometimes I'll just accidentally chuck the thing across a parking lot because I guess I'm clumsy.I don't know if it's just the Pixel 5 being a tough phone or this case working some crazy magic to protect it from my constant blunders but for this price I don't really care.Grippy and looks neat but isn't too much visually.\\n\""
      ]
     },
     "execution_count": 32,
     "metadata": {},
     "output_type": "execute_result"
    }
   ],
   "source": [
    "results_df.query('score == 5') \\\n",
    "    .sort_values('roberta_neg', ascending=False)['content'].values[0]"
   ]
  },
  {
   "cell_type": "code",
   "execution_count": 33,
   "id": "ee500315",
   "metadata": {
    "execution": {
     "iopub.execute_input": "2022-05-05T13:19:37.165281Z",
     "iopub.status.busy": "2022-05-05T13:19:37.164635Z",
     "iopub.status.idle": "2022-05-05T13:19:37.174175Z",
     "shell.execute_reply": "2022-05-05T13:19:37.173617Z"
    },
    "papermill": {
     "duration": 0.091501,
     "end_time": "2022-05-05T13:19:37.176042",
     "exception": false,
     "start_time": "2022-05-05T13:19:37.084541",
     "status": "completed"
    },
    "tags": []
   },
   "outputs": [
    {
     "data": {
      "text/plain": [
       "'\\nSimple, slim, adds a little protection without the bulk, good price, just what I wanted\\n'"
      ]
     },
     "execution_count": 33,
     "metadata": {},
     "output_type": "execute_result"
    }
   ],
   "source": [
    "results_df.query('score == 5') \\\n",
    "    .sort_values('vader_neg', ascending=False)['content'].values[0]"
   ]
  },
  {
   "cell_type": "markdown",
   "id": "9fc72a7b",
   "metadata": {
    "papermill": {
     "duration": 0.079012,
     "end_time": "2022-05-05T13:19:37.334439",
     "exception": false,
     "start_time": "2022-05-05T13:19:37.255427",
     "status": "completed"
    },
    "tags": []
   },
   "source": [
    "# Extra: The Transformers Pipeline\n",
    "- Einfach und Schnell für sentiment predictions"
   ]
  },
  {
   "cell_type": "code",
   "execution_count": 34,
   "id": "5ea6c156",
   "metadata": {
    "execution": {
     "iopub.execute_input": "2022-05-05T13:19:37.496074Z",
     "iopub.status.busy": "2022-05-05T13:19:37.495374Z",
     "iopub.status.idle": "2022-05-05T13:20:00.560131Z",
     "shell.execute_reply": "2022-05-05T13:20:00.559124Z"
    },
    "papermill": {
     "duration": 23.148785,
     "end_time": "2022-05-05T13:20:00.562817",
     "exception": false,
     "start_time": "2022-05-05T13:19:37.414032",
     "status": "completed"
    },
    "tags": []
   },
   "outputs": [
    {
     "name": "stderr",
     "output_type": "stream",
     "text": [
      "No model was supplied, defaulted to distilbert/distilbert-base-uncased-finetuned-sst-2-english and revision af0f99b (https://huggingface.co/distilbert/distilbert-base-uncased-finetuned-sst-2-english).\n",
      "Using a pipeline without specifying a model name and revision in production is not recommended.\n",
      "/Users/danielpolak/miniconda3/envs/webmining/lib/python3.11/site-packages/huggingface_hub/file_download.py:1132: FutureWarning: `resume_download` is deprecated and will be removed in version 1.0.0. Downloads always resume when possible. If you want to force a new download, use `force_download=True`.\n",
      "  warnings.warn(\n"
     ]
    }
   ],
   "source": [
    "from transformers import pipeline\n",
    "\n",
    "sent_pipeline = pipeline(\"sentiment-analysis\")"
   ]
  },
  {
   "cell_type": "code",
   "execution_count": 35,
   "id": "b03ae8fc",
   "metadata": {},
   "outputs": [
    {
     "data": {
      "text/plain": [
       "[{'label': 'NEGATIVE', 'score': 0.9977300763130188}]"
      ]
     },
     "execution_count": 35,
     "metadata": {},
     "output_type": "execute_result"
    }
   ],
   "source": [
    "sent_pipeline('I am not sure if I like it')"
   ]
  },
  {
   "cell_type": "code",
   "execution_count": 36,
   "id": "d84b4547",
   "metadata": {},
   "outputs": [
    {
     "data": {
      "text/plain": [
       "[{'label': 'POSITIVE', 'score': 0.9997593760490417}]"
      ]
     },
     "execution_count": 36,
     "metadata": {},
     "output_type": "execute_result"
    }
   ],
   "source": [
    "sent_pipeline('It tastes okay')"
   ]
  },
  {
   "cell_type": "markdown",
   "id": "06466a82",
   "metadata": {
    "papermill": {
     "duration": 0.081701,
     "end_time": "2022-05-05T13:20:01.361284",
     "exception": false,
     "start_time": "2022-05-05T13:20:01.279583",
     "status": "completed"
    },
    "tags": []
   },
   "source": [
    "# The End"
   ]
  }
 ],
 "metadata": {
  "kernelspec": {
   "display_name": "Python 3",
   "language": "python",
   "name": "python3"
  },
  "language_info": {
   "codemirror_mode": {
    "name": "ipython",
    "version": 3
   },
   "file_extension": ".py",
   "mimetype": "text/x-python",
   "name": "python",
   "nbconvert_exporter": "python",
   "pygments_lexer": "ipython3",
   "version": "3.11.8"
  },
  "papermill": {
   "default_parameters": {},
   "duration": 209.894032,
   "end_time": "2022-05-05T13:20:04.520385",
   "environment_variables": {},
   "exception": null,
   "input_path": "__notebook__.ipynb",
   "output_path": "__notebook__.ipynb",
   "parameters": {},
   "start_time": "2022-05-05T13:16:34.626353",
   "version": "2.3.4"
  },
  "widgets": {
   "application/vnd.jupyter.widget-state+json": {
    "state": {
     "0292f24aa71245c087d28242b2a152b6": {
      "model_module": "@jupyter-widgets/base",
      "model_module_version": "1.2.0",
      "model_name": "LayoutModel",
      "state": {
       "_model_module": "@jupyter-widgets/base",
       "_model_module_version": "1.2.0",
       "_model_name": "LayoutModel",
       "_view_count": null,
       "_view_module": "@jupyter-widgets/base",
       "_view_module_version": "1.2.0",
       "_view_name": "LayoutView",
       "align_content": null,
       "align_items": null,
       "align_self": null,
       "border": null,
       "bottom": null,
       "display": null,
       "flex": null,
       "flex_flow": null,
       "grid_area": null,
       "grid_auto_columns": null,
       "grid_auto_flow": null,
       "grid_auto_rows": null,
       "grid_column": null,
       "grid_gap": null,
       "grid_row": null,
       "grid_template_areas": null,
       "grid_template_columns": null,
       "grid_template_rows": null,
       "height": null,
       "justify_content": null,
       "justify_items": null,
       "left": null,
       "margin": null,
       "max_height": null,
       "max_width": null,
       "min_height": null,
       "min_width": null,
       "object_fit": null,
       "object_position": null,
       "order": null,
       "overflow": null,
       "overflow_x": null,
       "overflow_y": null,
       "padding": null,
       "right": null,
       "top": null,
       "visibility": null,
       "width": null
      }
     },
     "05c5d3bbda114d9692ebda2409338314": {
      "model_module": "@jupyter-widgets/controls",
      "model_module_version": "1.5.0",
      "model_name": "HTMLModel",
      "state": {
       "_dom_classes": [],
       "_model_module": "@jupyter-widgets/controls",
       "_model_module_version": "1.5.0",
       "_model_name": "HTMLModel",
       "_view_count": null,
       "_view_module": "@jupyter-widgets/controls",
       "_view_module_version": "1.5.0",
       "_view_name": "HTMLView",
       "description": "",
       "description_tooltip": null,
       "layout": "IPY_MODEL_633b9399e17345c9b923fb583b30fb77",
       "placeholder": "​",
       "style": "IPY_MODEL_f06b2fddbe7244bea8c473f0c8e7c9a8",
       "value": " 500/500 [01:42&lt;00:00,  3.62it/s]"
      }
     },
     "062b36f167c24a8f839bbefbb2d55b90": {
      "model_module": "@jupyter-widgets/controls",
      "model_module_version": "1.5.0",
      "model_name": "FloatProgressModel",
      "state": {
       "_dom_classes": [],
       "_model_module": "@jupyter-widgets/controls",
       "_model_module_version": "1.5.0",
       "_model_name": "FloatProgressModel",
       "_view_count": null,
       "_view_module": "@jupyter-widgets/controls",
       "_view_module_version": "1.5.0",
       "_view_name": "ProgressView",
       "bar_style": "success",
       "description": "",
       "description_tooltip": null,
       "layout": "IPY_MODEL_2e51ceee224e4824a81b9de426d1e8b4",
       "max": 629,
       "min": 0,
       "orientation": "horizontal",
       "style": "IPY_MODEL_15b56eb88d074744b1e9f3a381360b86",
       "value": 629
      }
     },
     "06d4f5d27834484f95db31a2605d53c9": {
      "model_module": "@jupyter-widgets/controls",
      "model_module_version": "1.5.0",
      "model_name": "DescriptionStyleModel",
      "state": {
       "_model_module": "@jupyter-widgets/controls",
       "_model_module_version": "1.5.0",
       "_model_name": "DescriptionStyleModel",
       "_view_count": null,
       "_view_module": "@jupyter-widgets/base",
       "_view_module_version": "1.2.0",
       "_view_name": "StyleView",
       "description_width": ""
      }
     },
     "08836e36321840ce8b3e7c2aeda735cd": {
      "model_module": "@jupyter-widgets/controls",
      "model_module_version": "1.5.0",
      "model_name": "HTMLModel",
      "state": {
       "_dom_classes": [],
       "_model_module": "@jupyter-widgets/controls",
       "_model_module_version": "1.5.0",
       "_model_name": "HTMLModel",
       "_view_count": null,
       "_view_module": "@jupyter-widgets/controls",
       "_view_module_version": "1.5.0",
       "_view_name": "HTMLView",
       "description": "",
       "description_tooltip": null,
       "layout": "IPY_MODEL_a4195637667e48c7af9d7b17707bd62e",
       "placeholder": "​",
       "style": "IPY_MODEL_06d4f5d27834484f95db31a2605d53c9",
       "value": "Downloading: 100%"
      }
     },
     "08ca4e9175d2437e8c971c17128e94d6": {
      "model_module": "@jupyter-widgets/controls",
      "model_module_version": "1.5.0",
      "model_name": "HBoxModel",
      "state": {
       "_dom_classes": [],
       "_model_module": "@jupyter-widgets/controls",
       "_model_module_version": "1.5.0",
       "_model_name": "HBoxModel",
       "_view_count": null,
       "_view_module": "@jupyter-widgets/controls",
       "_view_module_version": "1.5.0",
       "_view_name": "HBoxView",
       "box_style": "",
       "children": [
        "IPY_MODEL_88455c5bd1f94f05b7ff96958e56d296",
        "IPY_MODEL_68f27c38297649c9a06bde8dbba204b0",
        "IPY_MODEL_9276833d09274bb5849eebbb564e0cbe"
       ],
       "layout": "IPY_MODEL_aa6c92de2d4143a2b3205ac8c0e1c0ee"
      }
     },
     "0c737f3b30dc438caae47c01bf5e6c06": {
      "model_module": "@jupyter-widgets/controls",
      "model_module_version": "1.5.0",
      "model_name": "HBoxModel",
      "state": {
       "_dom_classes": [],
       "_model_module": "@jupyter-widgets/controls",
       "_model_module_version": "1.5.0",
       "_model_name": "HBoxModel",
       "_view_count": null,
       "_view_module": "@jupyter-widgets/controls",
       "_view_module_version": "1.5.0",
       "_view_name": "HBoxView",
       "box_style": "",
       "children": [
        "IPY_MODEL_e24d561fc87240e2944d68ecc6e71861",
        "IPY_MODEL_062b36f167c24a8f839bbefbb2d55b90",
        "IPY_MODEL_b39b01de0b264006a156c98017a625cb"
       ],
       "layout": "IPY_MODEL_a81969ed9592444d898e1bf80281ed61"
      }
     },
     "0c8cfd944dae4b29a1e4e1cbc9bb7db0": {
      "model_module": "@jupyter-widgets/controls",
      "model_module_version": "1.5.0",
      "model_name": "ProgressStyleModel",
      "state": {
       "_model_module": "@jupyter-widgets/controls",
       "_model_module_version": "1.5.0",
       "_model_name": "ProgressStyleModel",
       "_view_count": null,
       "_view_module": "@jupyter-widgets/base",
       "_view_module_version": "1.2.0",
       "_view_name": "StyleView",
       "bar_color": null,
       "description_width": ""
      }
     },
     "0dfb44d6330c44a4a93ad04eac2de228": {
      "model_module": "@jupyter-widgets/base",
      "model_module_version": "1.2.0",
      "model_name": "LayoutModel",
      "state": {
       "_model_module": "@jupyter-widgets/base",
       "_model_module_version": "1.2.0",
       "_model_name": "LayoutModel",
       "_view_count": null,
       "_view_module": "@jupyter-widgets/base",
       "_view_module_version": "1.2.0",
       "_view_name": "LayoutView",
       "align_content": null,
       "align_items": null,
       "align_self": null,
       "border": null,
       "bottom": null,
       "display": null,
       "flex": null,
       "flex_flow": null,
       "grid_area": null,
       "grid_auto_columns": null,
       "grid_auto_flow": null,
       "grid_auto_rows": null,
       "grid_column": null,
       "grid_gap": null,
       "grid_row": null,
       "grid_template_areas": null,
       "grid_template_columns": null,
       "grid_template_rows": null,
       "height": null,
       "justify_content": null,
       "justify_items": null,
       "left": null,
       "margin": null,
       "max_height": null,
       "max_width": null,
       "min_height": null,
       "min_width": null,
       "object_fit": null,
       "object_position": null,
       "order": null,
       "overflow": null,
       "overflow_x": null,
       "overflow_y": null,
       "padding": null,
       "right": null,
       "top": null,
       "visibility": null,
       "width": null
      }
     },
     "0f5fd40be2754b31ac93f6fd74efcfda": {
      "model_module": "@jupyter-widgets/controls",
      "model_module_version": "1.5.0",
      "model_name": "HBoxModel",
      "state": {
       "_dom_classes": [],
       "_model_module": "@jupyter-widgets/controls",
       "_model_module_version": "1.5.0",
       "_model_name": "HBoxModel",
       "_view_count": null,
       "_view_module": "@jupyter-widgets/controls",
       "_view_module_version": "1.5.0",
       "_view_name": "HBoxView",
       "box_style": "",
       "children": [
        "IPY_MODEL_9bd5051195a14bf4af55dfe6eea4e353",
        "IPY_MODEL_d3cb0ea9045847c7b44c8b9eb7f681d6",
        "IPY_MODEL_da8e77ea0b694588b554c65c2c77587c"
       ],
       "layout": "IPY_MODEL_7fa25ab5862140bdbe0b894d03817b94"
      }
     },
     "15b56eb88d074744b1e9f3a381360b86": {
      "model_module": "@jupyter-widgets/controls",
      "model_module_version": "1.5.0",
      "model_name": "ProgressStyleModel",
      "state": {
       "_model_module": "@jupyter-widgets/controls",
       "_model_module_version": "1.5.0",
       "_model_name": "ProgressStyleModel",
       "_view_count": null,
       "_view_module": "@jupyter-widgets/base",
       "_view_module_version": "1.2.0",
       "_view_name": "StyleView",
       "bar_color": null,
       "description_width": ""
      }
     },
     "183bda2af76747b198c036e4ff94a9d7": {
      "model_module": "@jupyter-widgets/controls",
      "model_module_version": "1.5.0",
      "model_name": "ProgressStyleModel",
      "state": {
       "_model_module": "@jupyter-widgets/controls",
       "_model_module_version": "1.5.0",
       "_model_name": "ProgressStyleModel",
       "_view_count": null,
       "_view_module": "@jupyter-widgets/base",
       "_view_module_version": "1.2.0",
       "_view_name": "StyleView",
       "bar_color": null,
       "description_width": ""
      }
     },
     "185c35cda2e4473886a920cac2764c25": {
      "model_module": "@jupyter-widgets/controls",
      "model_module_version": "1.5.0",
      "model_name": "DescriptionStyleModel",
      "state": {
       "_model_module": "@jupyter-widgets/controls",
       "_model_module_version": "1.5.0",
       "_model_name": "DescriptionStyleModel",
       "_view_count": null,
       "_view_module": "@jupyter-widgets/base",
       "_view_module_version": "1.2.0",
       "_view_name": "StyleView",
       "description_width": ""
      }
     },
     "18de091207d944c1a5ba0a11276fed03": {
      "model_module": "@jupyter-widgets/base",
      "model_module_version": "1.2.0",
      "model_name": "LayoutModel",
      "state": {
       "_model_module": "@jupyter-widgets/base",
       "_model_module_version": "1.2.0",
       "_model_name": "LayoutModel",
       "_view_count": null,
       "_view_module": "@jupyter-widgets/base",
       "_view_module_version": "1.2.0",
       "_view_name": "LayoutView",
       "align_content": null,
       "align_items": null,
       "align_self": null,
       "border": null,
       "bottom": null,
       "display": null,
       "flex": null,
       "flex_flow": null,
       "grid_area": null,
       "grid_auto_columns": null,
       "grid_auto_flow": null,
       "grid_auto_rows": null,
       "grid_column": null,
       "grid_gap": null,
       "grid_row": null,
       "grid_template_areas": null,
       "grid_template_columns": null,
       "grid_template_rows": null,
       "height": null,
       "justify_content": null,
       "justify_items": null,
       "left": null,
       "margin": null,
       "max_height": null,
       "max_width": null,
       "min_height": null,
       "min_width": null,
       "object_fit": null,
       "object_position": null,
       "order": null,
       "overflow": null,
       "overflow_x": null,
       "overflow_y": null,
       "padding": null,
       "right": null,
       "top": null,
       "visibility": null,
       "width": null
      }
     },
     "193d5bae2e7549ac90ab3399c8054507": {
      "model_module": "@jupyter-widgets/controls",
      "model_module_version": "1.5.0",
      "model_name": "ProgressStyleModel",
      "state": {
       "_model_module": "@jupyter-widgets/controls",
       "_model_module_version": "1.5.0",
       "_model_name": "ProgressStyleModel",
       "_view_count": null,
       "_view_module": "@jupyter-widgets/base",
       "_view_module_version": "1.2.0",
       "_view_name": "StyleView",
       "bar_color": null,
       "description_width": ""
      }
     },
     "1b319db4659444639c9bd242f5872445": {
      "model_module": "@jupyter-widgets/controls",
      "model_module_version": "1.5.0",
      "model_name": "ProgressStyleModel",
      "state": {
       "_model_module": "@jupyter-widgets/controls",
       "_model_module_version": "1.5.0",
       "_model_name": "ProgressStyleModel",
       "_view_count": null,
       "_view_module": "@jupyter-widgets/base",
       "_view_module_version": "1.2.0",
       "_view_name": "StyleView",
       "bar_color": null,
       "description_width": ""
      }
     },
     "2016f028ecfd4921953e468fa277417a": {
      "model_module": "@jupyter-widgets/controls",
      "model_module_version": "1.5.0",
      "model_name": "FloatProgressModel",
      "state": {
       "_dom_classes": [],
       "_model_module": "@jupyter-widgets/controls",
       "_model_module_version": "1.5.0",
       "_model_name": "FloatProgressModel",
       "_view_count": null,
       "_view_module": "@jupyter-widgets/controls",
       "_view_module_version": "1.5.0",
       "_view_name": "ProgressView",
       "bar_style": "success",
       "description": "",
       "description_tooltip": null,
       "layout": "IPY_MODEL_96e9c5783e9c4a19a933f6a515bcfa6e",
       "max": 231508,
       "min": 0,
       "orientation": "horizontal",
       "style": "IPY_MODEL_0c8cfd944dae4b29a1e4e1cbc9bb7db0",
       "value": 231508
      }
     },
     "221eefb3d4a14d92abc1020e58477718": {
      "model_module": "@jupyter-widgets/controls",
      "model_module_version": "1.5.0",
      "model_name": "HTMLModel",
      "state": {
       "_dom_classes": [],
       "_model_module": "@jupyter-widgets/controls",
       "_model_module_version": "1.5.0",
       "_model_name": "HTMLModel",
       "_view_count": null,
       "_view_module": "@jupyter-widgets/controls",
       "_view_module_version": "1.5.0",
       "_view_name": "HTMLView",
       "description": "",
       "description_tooltip": null,
       "layout": "IPY_MODEL_0292f24aa71245c087d28242b2a152b6",
       "placeholder": "​",
       "style": "IPY_MODEL_8718918ce7914eeba6588baf3c337407",
       "value": "100%"
      }
     },
     "2288c494a53142f98b3a42bec0ea010b": {
      "model_module": "@jupyter-widgets/controls",
      "model_module_version": "1.5.0",
      "model_name": "HTMLModel",
      "state": {
       "_dom_classes": [],
       "_model_module": "@jupyter-widgets/controls",
       "_model_module_version": "1.5.0",
       "_model_name": "HTMLModel",
       "_view_count": null,
       "_view_module": "@jupyter-widgets/controls",
       "_view_module_version": "1.5.0",
       "_view_name": "HTMLView",
       "description": "",
       "description_tooltip": null,
       "layout": "IPY_MODEL_63f9be02e84949fea6d2a4ec9da1fbb0",
       "placeholder": "​",
       "style": "IPY_MODEL_6a9b0ee444534121bdd347f46ef0f85a",
       "value": "Downloading: 100%"
      }
     },
     "239778890ade45faa46b1e6d3543d2b4": {
      "model_module": "@jupyter-widgets/base",
      "model_module_version": "1.2.0",
      "model_name": "LayoutModel",
      "state": {
       "_model_module": "@jupyter-widgets/base",
       "_model_module_version": "1.2.0",
       "_model_name": "LayoutModel",
       "_view_count": null,
       "_view_module": "@jupyter-widgets/base",
       "_view_module_version": "1.2.0",
       "_view_name": "LayoutView",
       "align_content": null,
       "align_items": null,
       "align_self": null,
       "border": null,
       "bottom": null,
       "display": null,
       "flex": null,
       "flex_flow": null,
       "grid_area": null,
       "grid_auto_columns": null,
       "grid_auto_flow": null,
       "grid_auto_rows": null,
       "grid_column": null,
       "grid_gap": null,
       "grid_row": null,
       "grid_template_areas": null,
       "grid_template_columns": null,
       "grid_template_rows": null,
       "height": null,
       "justify_content": null,
       "justify_items": null,
       "left": null,
       "margin": null,
       "max_height": null,
       "max_width": null,
       "min_height": null,
       "min_width": null,
       "object_fit": null,
       "object_position": null,
       "order": null,
       "overflow": null,
       "overflow_x": null,
       "overflow_y": null,
       "padding": null,
       "right": null,
       "top": null,
       "visibility": null,
       "width": null
      }
     },
     "24dadae082ef45bfa801afec2f0fc013": {
      "model_module": "@jupyter-widgets/controls",
      "model_module_version": "1.5.0",
      "model_name": "DescriptionStyleModel",
      "state": {
       "_model_module": "@jupyter-widgets/controls",
       "_model_module_version": "1.5.0",
       "_model_name": "DescriptionStyleModel",
       "_view_count": null,
       "_view_module": "@jupyter-widgets/base",
       "_view_module_version": "1.2.0",
       "_view_name": "StyleView",
       "description_width": ""
      }
     },
     "2cce0e33f963441e8ea4f68e4039b067": {
      "model_module": "@jupyter-widgets/controls",
      "model_module_version": "1.5.0",
      "model_name": "DescriptionStyleModel",
      "state": {
       "_model_module": "@jupyter-widgets/controls",
       "_model_module_version": "1.5.0",
       "_model_name": "DescriptionStyleModel",
       "_view_count": null,
       "_view_module": "@jupyter-widgets/base",
       "_view_module_version": "1.2.0",
       "_view_name": "StyleView",
       "description_width": ""
      }
     },
     "2cf7ea657841426d8c939706d4b997c4": {
      "model_module": "@jupyter-widgets/controls",
      "model_module_version": "1.5.0",
      "model_name": "ProgressStyleModel",
      "state": {
       "_model_module": "@jupyter-widgets/controls",
       "_model_module_version": "1.5.0",
       "_model_name": "ProgressStyleModel",
       "_view_count": null,
       "_view_module": "@jupyter-widgets/base",
       "_view_module_version": "1.2.0",
       "_view_name": "StyleView",
       "bar_color": null,
       "description_width": ""
      }
     },
     "2e51ceee224e4824a81b9de426d1e8b4": {
      "model_module": "@jupyter-widgets/base",
      "model_module_version": "1.2.0",
      "model_name": "LayoutModel",
      "state": {
       "_model_module": "@jupyter-widgets/base",
       "_model_module_version": "1.2.0",
       "_model_name": "LayoutModel",
       "_view_count": null,
       "_view_module": "@jupyter-widgets/base",
       "_view_module_version": "1.2.0",
       "_view_name": "LayoutView",
       "align_content": null,
       "align_items": null,
       "align_self": null,
       "border": null,
       "bottom": null,
       "display": null,
       "flex": null,
       "flex_flow": null,
       "grid_area": null,
       "grid_auto_columns": null,
       "grid_auto_flow": null,
       "grid_auto_rows": null,
       "grid_column": null,
       "grid_gap": null,
       "grid_row": null,
       "grid_template_areas": null,
       "grid_template_columns": null,
       "grid_template_rows": null,
       "height": null,
       "justify_content": null,
       "justify_items": null,
       "left": null,
       "margin": null,
       "max_height": null,
       "max_width": null,
       "min_height": null,
       "min_width": null,
       "object_fit": null,
       "object_position": null,
       "order": null,
       "overflow": null,
       "overflow_x": null,
       "overflow_y": null,
       "padding": null,
       "right": null,
       "top": null,
       "visibility": null,
       "width": null
      }
     },
     "2f1ed358f16148a79690b94a28ef02a9": {
      "model_module": "@jupyter-widgets/controls",
      "model_module_version": "1.5.0",
      "model_name": "DescriptionStyleModel",
      "state": {
       "_model_module": "@jupyter-widgets/controls",
       "_model_module_version": "1.5.0",
       "_model_name": "DescriptionStyleModel",
       "_view_count": null,
       "_view_module": "@jupyter-widgets/base",
       "_view_module_version": "1.2.0",
       "_view_name": "StyleView",
       "description_width": ""
      }
     },
     "352cfacfc9514c39bde82873d0b4b6a0": {
      "model_module": "@jupyter-widgets/controls",
      "model_module_version": "1.5.0",
      "model_name": "DescriptionStyleModel",
      "state": {
       "_model_module": "@jupyter-widgets/controls",
       "_model_module_version": "1.5.0",
       "_model_name": "DescriptionStyleModel",
       "_view_count": null,
       "_view_module": "@jupyter-widgets/base",
       "_view_module_version": "1.2.0",
       "_view_name": "StyleView",
       "description_width": ""
      }
     },
     "3b7d83d41b9347a4b7a36f96f4d3f699": {
      "model_module": "@jupyter-widgets/controls",
      "model_module_version": "1.5.0",
      "model_name": "HTMLModel",
      "state": {
       "_dom_classes": [],
       "_model_module": "@jupyter-widgets/controls",
       "_model_module_version": "1.5.0",
       "_model_name": "HTMLModel",
       "_view_count": null,
       "_view_module": "@jupyter-widgets/controls",
       "_view_module_version": "1.5.0",
       "_view_name": "HTMLView",
       "description": "",
       "description_tooltip": null,
       "layout": "IPY_MODEL_95b4bd195c9546d3bbe3e4039f6871d4",
       "placeholder": "​",
       "style": "IPY_MODEL_2f1ed358f16148a79690b94a28ef02a9",
       "value": " 150/150 [00:00&lt;00:00, 5.03kB/s]"
      }
     },
     "3def17eb42b24396966ecc713621e85e": {
      "model_module": "@jupyter-widgets/controls",
      "model_module_version": "1.5.0",
      "model_name": "HTMLModel",
      "state": {
       "_dom_classes": [],
       "_model_module": "@jupyter-widgets/controls",
       "_model_module_version": "1.5.0",
       "_model_name": "HTMLModel",
       "_view_count": null,
       "_view_module": "@jupyter-widgets/controls",
       "_view_module_version": "1.5.0",
       "_view_name": "HTMLView",
       "description": "",
       "description_tooltip": null,
       "layout": "IPY_MODEL_c3912dfdf4584cb096d65dd7400822df",
       "placeholder": "​",
       "style": "IPY_MODEL_b2d8eb6700bb47e08c95b751d84ad4e5",
       "value": "Downloading: 100%"
      }
     },
     "3fafdb6a7f2f4669a3ee78ef852ecf99": {
      "model_module": "@jupyter-widgets/base",
      "model_module_version": "1.2.0",
      "model_name": "LayoutModel",
      "state": {
       "_model_module": "@jupyter-widgets/base",
       "_model_module_version": "1.2.0",
       "_model_name": "LayoutModel",
       "_view_count": null,
       "_view_module": "@jupyter-widgets/base",
       "_view_module_version": "1.2.0",
       "_view_name": "LayoutView",
       "align_content": null,
       "align_items": null,
       "align_self": null,
       "border": null,
       "bottom": null,
       "display": null,
       "flex": null,
       "flex_flow": null,
       "grid_area": null,
       "grid_auto_columns": null,
       "grid_auto_flow": null,
       "grid_auto_rows": null,
       "grid_column": null,
       "grid_gap": null,
       "grid_row": null,
       "grid_template_areas": null,
       "grid_template_columns": null,
       "grid_template_rows": null,
       "height": null,
       "justify_content": null,
       "justify_items": null,
       "left": null,
       "margin": null,
       "max_height": null,
       "max_width": null,
       "min_height": null,
       "min_width": null,
       "object_fit": null,
       "object_position": null,
       "order": null,
       "overflow": null,
       "overflow_x": null,
       "overflow_y": null,
       "padding": null,
       "right": null,
       "top": null,
       "visibility": null,
       "width": null
      }
     },
     "4021bbc37c3248b79622a99b91c3be88": {
      "model_module": "@jupyter-widgets/base",
      "model_module_version": "1.2.0",
      "model_name": "LayoutModel",
      "state": {
       "_model_module": "@jupyter-widgets/base",
       "_model_module_version": "1.2.0",
       "_model_name": "LayoutModel",
       "_view_count": null,
       "_view_module": "@jupyter-widgets/base",
       "_view_module_version": "1.2.0",
       "_view_name": "LayoutView",
       "align_content": null,
       "align_items": null,
       "align_self": null,
       "border": null,
       "bottom": null,
       "display": null,
       "flex": null,
       "flex_flow": null,
       "grid_area": null,
       "grid_auto_columns": null,
       "grid_auto_flow": null,
       "grid_auto_rows": null,
       "grid_column": null,
       "grid_gap": null,
       "grid_row": null,
       "grid_template_areas": null,
       "grid_template_columns": null,
       "grid_template_rows": null,
       "height": null,
       "justify_content": null,
       "justify_items": null,
       "left": null,
       "margin": null,
       "max_height": null,
       "max_width": null,
       "min_height": null,
       "min_width": null,
       "object_fit": null,
       "object_position": null,
       "order": null,
       "overflow": null,
       "overflow_x": null,
       "overflow_y": null,
       "padding": null,
       "right": null,
       "top": null,
       "visibility": null,
       "width": null
      }
     },
     "403c2c7ab0e14b05be0bc893d219ccd0": {
      "model_module": "@jupyter-widgets/controls",
      "model_module_version": "1.5.0",
      "model_name": "DescriptionStyleModel",
      "state": {
       "_model_module": "@jupyter-widgets/controls",
       "_model_module_version": "1.5.0",
       "_model_name": "DescriptionStyleModel",
       "_view_count": null,
       "_view_module": "@jupyter-widgets/base",
       "_view_module_version": "1.2.0",
       "_view_name": "StyleView",
       "description_width": ""
      }
     },
     "40c6eff0ce4443dfbd8f5c7e31d8f4cf": {
      "model_module": "@jupyter-widgets/controls",
      "model_module_version": "1.5.0",
      "model_name": "HBoxModel",
      "state": {
       "_dom_classes": [],
       "_model_module": "@jupyter-widgets/controls",
       "_model_module_version": "1.5.0",
       "_model_name": "HBoxModel",
       "_view_count": null,
       "_view_module": "@jupyter-widgets/controls",
       "_view_module_version": "1.5.0",
       "_view_name": "HBoxView",
       "box_style": "",
       "children": [
        "IPY_MODEL_2288c494a53142f98b3a42bec0ea010b",
        "IPY_MODEL_6a3c7332cdf54928a980a0ae04580675",
        "IPY_MODEL_fac5b523ebea4069958a44267ab7992e"
       ],
       "layout": "IPY_MODEL_18de091207d944c1a5ba0a11276fed03"
      }
     },
     "49ec07c14090410383fc884eb49b7000": {
      "model_module": "@jupyter-widgets/base",
      "model_module_version": "1.2.0",
      "model_name": "LayoutModel",
      "state": {
       "_model_module": "@jupyter-widgets/base",
       "_model_module_version": "1.2.0",
       "_model_name": "LayoutModel",
       "_view_count": null,
       "_view_module": "@jupyter-widgets/base",
       "_view_module_version": "1.2.0",
       "_view_name": "LayoutView",
       "align_content": null,
       "align_items": null,
       "align_self": null,
       "border": null,
       "bottom": null,
       "display": null,
       "flex": null,
       "flex_flow": null,
       "grid_area": null,
       "grid_auto_columns": null,
       "grid_auto_flow": null,
       "grid_auto_rows": null,
       "grid_column": null,
       "grid_gap": null,
       "grid_row": null,
       "grid_template_areas": null,
       "grid_template_columns": null,
       "grid_template_rows": null,
       "height": null,
       "justify_content": null,
       "justify_items": null,
       "left": null,
       "margin": null,
       "max_height": null,
       "max_width": null,
       "min_height": null,
       "min_width": null,
       "object_fit": null,
       "object_position": null,
       "order": null,
       "overflow": null,
       "overflow_x": null,
       "overflow_y": null,
       "padding": null,
       "right": null,
       "top": null,
       "visibility": null,
       "width": null
      }
     },
     "4af77d436afa4e2b90ca52cc9e58b9c7": {
      "model_module": "@jupyter-widgets/base",
      "model_module_version": "1.2.0",
      "model_name": "LayoutModel",
      "state": {
       "_model_module": "@jupyter-widgets/base",
       "_model_module_version": "1.2.0",
       "_model_name": "LayoutModel",
       "_view_count": null,
       "_view_module": "@jupyter-widgets/base",
       "_view_module_version": "1.2.0",
       "_view_name": "LayoutView",
       "align_content": null,
       "align_items": null,
       "align_self": null,
       "border": null,
       "bottom": null,
       "display": null,
       "flex": null,
       "flex_flow": null,
       "grid_area": null,
       "grid_auto_columns": null,
       "grid_auto_flow": null,
       "grid_auto_rows": null,
       "grid_column": null,
       "grid_gap": null,
       "grid_row": null,
       "grid_template_areas": null,
       "grid_template_columns": null,
       "grid_template_rows": null,
       "height": null,
       "justify_content": null,
       "justify_items": null,
       "left": null,
       "margin": null,
       "max_height": null,
       "max_width": null,
       "min_height": null,
       "min_width": null,
       "object_fit": null,
       "object_position": null,
       "order": null,
       "overflow": null,
       "overflow_x": null,
       "overflow_y": null,
       "padding": null,
       "right": null,
       "top": null,
       "visibility": null,
       "width": null
      }
     },
     "4bbe9ff6b12848efb7dfe9d103644f6e": {
      "model_module": "@jupyter-widgets/base",
      "model_module_version": "1.2.0",
      "model_name": "LayoutModel",
      "state": {
       "_model_module": "@jupyter-widgets/base",
       "_model_module_version": "1.2.0",
       "_model_name": "LayoutModel",
       "_view_count": null,
       "_view_module": "@jupyter-widgets/base",
       "_view_module_version": "1.2.0",
       "_view_name": "LayoutView",
       "align_content": null,
       "align_items": null,
       "align_self": null,
       "border": null,
       "bottom": null,
       "display": null,
       "flex": null,
       "flex_flow": null,
       "grid_area": null,
       "grid_auto_columns": null,
       "grid_auto_flow": null,
       "grid_auto_rows": null,
       "grid_column": null,
       "grid_gap": null,
       "grid_row": null,
       "grid_template_areas": null,
       "grid_template_columns": null,
       "grid_template_rows": null,
       "height": null,
       "justify_content": null,
       "justify_items": null,
       "left": null,
       "margin": null,
       "max_height": null,
       "max_width": null,
       "min_height": null,
       "min_width": null,
       "object_fit": null,
       "object_position": null,
       "order": null,
       "overflow": null,
       "overflow_x": null,
       "overflow_y": null,
       "padding": null,
       "right": null,
       "top": null,
       "visibility": null,
       "width": null
      }
     },
     "4c88dca972b548be8469fa7a3f5e463f": {
      "model_module": "@jupyter-widgets/controls",
      "model_module_version": "1.5.0",
      "model_name": "ProgressStyleModel",
      "state": {
       "_model_module": "@jupyter-widgets/controls",
       "_model_module_version": "1.5.0",
       "_model_name": "ProgressStyleModel",
       "_view_count": null,
       "_view_module": "@jupyter-widgets/base",
       "_view_module_version": "1.2.0",
       "_view_name": "StyleView",
       "bar_color": null,
       "description_width": ""
      }
     },
     "4eabb62ae82f43c9aca79c6dd5336f38": {
      "model_module": "@jupyter-widgets/controls",
      "model_module_version": "1.5.0",
      "model_name": "DescriptionStyleModel",
      "state": {
       "_model_module": "@jupyter-widgets/controls",
       "_model_module_version": "1.5.0",
       "_model_name": "DescriptionStyleModel",
       "_view_count": null,
       "_view_module": "@jupyter-widgets/base",
       "_view_module_version": "1.2.0",
       "_view_name": "StyleView",
       "description_width": ""
      }
     },
     "4ed54468f33f459581a2b17b0444e9a9": {
      "model_module": "@jupyter-widgets/base",
      "model_module_version": "1.2.0",
      "model_name": "LayoutModel",
      "state": {
       "_model_module": "@jupyter-widgets/base",
       "_model_module_version": "1.2.0",
       "_model_name": "LayoutModel",
       "_view_count": null,
       "_view_module": "@jupyter-widgets/base",
       "_view_module_version": "1.2.0",
       "_view_name": "LayoutView",
       "align_content": null,
       "align_items": null,
       "align_self": null,
       "border": null,
       "bottom": null,
       "display": null,
       "flex": null,
       "flex_flow": null,
       "grid_area": null,
       "grid_auto_columns": null,
       "grid_auto_flow": null,
       "grid_auto_rows": null,
       "grid_column": null,
       "grid_gap": null,
       "grid_row": null,
       "grid_template_areas": null,
       "grid_template_columns": null,
       "grid_template_rows": null,
       "height": null,
       "justify_content": null,
       "justify_items": null,
       "left": null,
       "margin": null,
       "max_height": null,
       "max_width": null,
       "min_height": null,
       "min_width": null,
       "object_fit": null,
       "object_position": null,
       "order": null,
       "overflow": null,
       "overflow_x": null,
       "overflow_y": null,
       "padding": null,
       "right": null,
       "top": null,
       "visibility": null,
       "width": null
      }
     },
     "51e9f82bab7844a6aebf192dc72fe3f4": {
      "model_module": "@jupyter-widgets/controls",
      "model_module_version": "1.5.0",
      "model_name": "DescriptionStyleModel",
      "state": {
       "_model_module": "@jupyter-widgets/controls",
       "_model_module_version": "1.5.0",
       "_model_name": "DescriptionStyleModel",
       "_view_count": null,
       "_view_module": "@jupyter-widgets/base",
       "_view_module_version": "1.2.0",
       "_view_name": "StyleView",
       "description_width": ""
      }
     },
     "520630552aa745fdb726b511672f4df9": {
      "model_module": "@jupyter-widgets/base",
      "model_module_version": "1.2.0",
      "model_name": "LayoutModel",
      "state": {
       "_model_module": "@jupyter-widgets/base",
       "_model_module_version": "1.2.0",
       "_model_name": "LayoutModel",
       "_view_count": null,
       "_view_module": "@jupyter-widgets/base",
       "_view_module_version": "1.2.0",
       "_view_name": "LayoutView",
       "align_content": null,
       "align_items": null,
       "align_self": null,
       "border": null,
       "bottom": null,
       "display": null,
       "flex": null,
       "flex_flow": null,
       "grid_area": null,
       "grid_auto_columns": null,
       "grid_auto_flow": null,
       "grid_auto_rows": null,
       "grid_column": null,
       "grid_gap": null,
       "grid_row": null,
       "grid_template_areas": null,
       "grid_template_columns": null,
       "grid_template_rows": null,
       "height": null,
       "justify_content": null,
       "justify_items": null,
       "left": null,
       "margin": null,
       "max_height": null,
       "max_width": null,
       "min_height": null,
       "min_width": null,
       "object_fit": null,
       "object_position": null,
       "order": null,
       "overflow": null,
       "overflow_x": null,
       "overflow_y": null,
       "padding": null,
       "right": null,
       "top": null,
       "visibility": null,
       "width": null
      }
     },
     "543e4f81772544a88403162e63ffbc4f": {
      "model_module": "@jupyter-widgets/base",
      "model_module_version": "1.2.0",
      "model_name": "LayoutModel",
      "state": {
       "_model_module": "@jupyter-widgets/base",
       "_model_module_version": "1.2.0",
       "_model_name": "LayoutModel",
       "_view_count": null,
       "_view_module": "@jupyter-widgets/base",
       "_view_module_version": "1.2.0",
       "_view_name": "LayoutView",
       "align_content": null,
       "align_items": null,
       "align_self": null,
       "border": null,
       "bottom": null,
       "display": null,
       "flex": null,
       "flex_flow": null,
       "grid_area": null,
       "grid_auto_columns": null,
       "grid_auto_flow": null,
       "grid_auto_rows": null,
       "grid_column": null,
       "grid_gap": null,
       "grid_row": null,
       "grid_template_areas": null,
       "grid_template_columns": null,
       "grid_template_rows": null,
       "height": null,
       "justify_content": null,
       "justify_items": null,
       "left": null,
       "margin": null,
       "max_height": null,
       "max_width": null,
       "min_height": null,
       "min_width": null,
       "object_fit": null,
       "object_position": null,
       "order": null,
       "overflow": null,
       "overflow_x": null,
       "overflow_y": null,
       "padding": null,
       "right": null,
       "top": null,
       "visibility": null,
       "width": null
      }
     },
     "57eb6d98652646feaf488f9521db74f5": {
      "model_module": "@jupyter-widgets/base",
      "model_module_version": "1.2.0",
      "model_name": "LayoutModel",
      "state": {
       "_model_module": "@jupyter-widgets/base",
       "_model_module_version": "1.2.0",
       "_model_name": "LayoutModel",
       "_view_count": null,
       "_view_module": "@jupyter-widgets/base",
       "_view_module_version": "1.2.0",
       "_view_name": "LayoutView",
       "align_content": null,
       "align_items": null,
       "align_self": null,
       "border": null,
       "bottom": null,
       "display": null,
       "flex": null,
       "flex_flow": null,
       "grid_area": null,
       "grid_auto_columns": null,
       "grid_auto_flow": null,
       "grid_auto_rows": null,
       "grid_column": null,
       "grid_gap": null,
       "grid_row": null,
       "grid_template_areas": null,
       "grid_template_columns": null,
       "grid_template_rows": null,
       "height": null,
       "justify_content": null,
       "justify_items": null,
       "left": null,
       "margin": null,
       "max_height": null,
       "max_width": null,
       "min_height": null,
       "min_width": null,
       "object_fit": null,
       "object_position": null,
       "order": null,
       "overflow": null,
       "overflow_x": null,
       "overflow_y": null,
       "padding": null,
       "right": null,
       "top": null,
       "visibility": null,
       "width": null
      }
     },
     "594850bd64094dae8f12bbdb8b22f278": {
      "model_module": "@jupyter-widgets/controls",
      "model_module_version": "1.5.0",
      "model_name": "HTMLModel",
      "state": {
       "_dom_classes": [],
       "_model_module": "@jupyter-widgets/controls",
       "_model_module_version": "1.5.0",
       "_model_name": "HTMLModel",
       "_view_count": null,
       "_view_module": "@jupyter-widgets/controls",
       "_view_module_version": "1.5.0",
       "_view_name": "HTMLView",
       "description": "",
       "description_tooltip": null,
       "layout": "IPY_MODEL_dd9719aa56114f7cafbdc8d2206794ff",
       "placeholder": "​",
       "style": "IPY_MODEL_bf0bba0f20834120bc84b4ab295e900b",
       "value": " 226k/226k [00:00&lt;00:00, 897kB/s]"
      }
     },
     "5a2105a60d514f7eb14295f465f40766": {
      "model_module": "@jupyter-widgets/controls",
      "model_module_version": "1.5.0",
      "model_name": "DescriptionStyleModel",
      "state": {
       "_model_module": "@jupyter-widgets/controls",
       "_model_module_version": "1.5.0",
       "_model_name": "DescriptionStyleModel",
       "_view_count": null,
       "_view_module": "@jupyter-widgets/base",
       "_view_module_version": "1.2.0",
       "_view_name": "StyleView",
       "description_width": ""
      }
     },
     "5a613e1a3ac14f809a62303e9f285101": {
      "model_module": "@jupyter-widgets/controls",
      "model_module_version": "1.5.0",
      "model_name": "HTMLModel",
      "state": {
       "_dom_classes": [],
       "_model_module": "@jupyter-widgets/controls",
       "_model_module_version": "1.5.0",
       "_model_name": "HTMLModel",
       "_view_count": null,
       "_view_module": "@jupyter-widgets/controls",
       "_view_module_version": "1.5.0",
       "_view_name": "HTMLView",
       "description": "",
       "description_tooltip": null,
       "layout": "IPY_MODEL_f0d8a29a0fa0499baa220493bcf0c272",
       "placeholder": "​",
       "style": "IPY_MODEL_5a2105a60d514f7eb14295f465f40766",
       "value": " 48.0/48.0 [00:00&lt;00:00, 1.42kB/s]"
      }
     },
     "5c6f8cf38f8b453daf3d9e9db913907b": {
      "model_module": "@jupyter-widgets/controls",
      "model_module_version": "1.5.0",
      "model_name": "HBoxModel",
      "state": {
       "_dom_classes": [],
       "_model_module": "@jupyter-widgets/controls",
       "_model_module_version": "1.5.0",
       "_model_name": "HBoxModel",
       "_view_count": null,
       "_view_module": "@jupyter-widgets/controls",
       "_view_module_version": "1.5.0",
       "_view_name": "HBoxView",
       "box_style": "",
       "children": [
        "IPY_MODEL_3def17eb42b24396966ecc713621e85e",
        "IPY_MODEL_b1a986eb43a042a6b68597ad6cb11e9b",
        "IPY_MODEL_5f58e7877f3b4467938cd0fde28aea1f"
       ],
       "layout": "IPY_MODEL_7a04d1dbd52d48ff81476f88fcdb8311"
      }
     },
     "5ceeab8ae6f44863947470dddcc54721": {
      "model_module": "@jupyter-widgets/controls",
      "model_module_version": "1.5.0",
      "model_name": "HTMLModel",
      "state": {
       "_dom_classes": [],
       "_model_module": "@jupyter-widgets/controls",
       "_model_module_version": "1.5.0",
       "_model_name": "HTMLModel",
       "_view_count": null,
       "_view_module": "@jupyter-widgets/controls",
       "_view_module_version": "1.5.0",
       "_view_name": "HTMLView",
       "description": "",
       "description_tooltip": null,
       "layout": "IPY_MODEL_c4669a0bffcc40f0af7567d0376b2102",
       "placeholder": "​",
       "style": "IPY_MODEL_7ecf1fb0ff7f4805a1dec593eb2cc341",
       "value": "Downloading: 100%"
      }
     },
     "5e1cf6f110fa43278ccb89b0b2733df2": {
      "model_module": "@jupyter-widgets/base",
      "model_module_version": "1.2.0",
      "model_name": "LayoutModel",
      "state": {
       "_model_module": "@jupyter-widgets/base",
       "_model_module_version": "1.2.0",
       "_model_name": "LayoutModel",
       "_view_count": null,
       "_view_module": "@jupyter-widgets/base",
       "_view_module_version": "1.2.0",
       "_view_name": "LayoutView",
       "align_content": null,
       "align_items": null,
       "align_self": null,
       "border": null,
       "bottom": null,
       "display": null,
       "flex": null,
       "flex_flow": null,
       "grid_area": null,
       "grid_auto_columns": null,
       "grid_auto_flow": null,
       "grid_auto_rows": null,
       "grid_column": null,
       "grid_gap": null,
       "grid_row": null,
       "grid_template_areas": null,
       "grid_template_columns": null,
       "grid_template_rows": null,
       "height": null,
       "justify_content": null,
       "justify_items": null,
       "left": null,
       "margin": null,
       "max_height": null,
       "max_width": null,
       "min_height": null,
       "min_width": null,
       "object_fit": null,
       "object_position": null,
       "order": null,
       "overflow": null,
       "overflow_x": null,
       "overflow_y": null,
       "padding": null,
       "right": null,
       "top": null,
       "visibility": null,
       "width": null
      }
     },
     "5f58e7877f3b4467938cd0fde28aea1f": {
      "model_module": "@jupyter-widgets/controls",
      "model_module_version": "1.5.0",
      "model_name": "HTMLModel",
      "state": {
       "_dom_classes": [],
       "_model_module": "@jupyter-widgets/controls",
       "_model_module_version": "1.5.0",
       "_model_name": "HTMLModel",
       "_view_count": null,
       "_view_module": "@jupyter-widgets/controls",
       "_view_module_version": "1.5.0",
       "_view_name": "HTMLView",
       "description": "",
       "description_tooltip": null,
       "layout": "IPY_MODEL_239778890ade45faa46b1e6d3543d2b4",
       "placeholder": "​",
       "style": "IPY_MODEL_b4736464f0934fffa9f00af358c013ff",
       "value": " 255M/255M [00:12&lt;00:00, 23.0MB/s]"
      }
     },
     "62c50307381b49868e6272c0a7014119": {
      "model_module": "@jupyter-widgets/controls",
      "model_module_version": "1.5.0",
      "model_name": "HBoxModel",
      "state": {
       "_dom_classes": [],
       "_model_module": "@jupyter-widgets/controls",
       "_model_module_version": "1.5.0",
       "_model_name": "HBoxModel",
       "_view_count": null,
       "_view_module": "@jupyter-widgets/controls",
       "_view_module_version": "1.5.0",
       "_view_name": "HBoxView",
       "box_style": "",
       "children": [
        "IPY_MODEL_d1f6ec0f78f14ceeb38c4da7d021172b",
        "IPY_MODEL_6ab834f165cc4018944662a92f413ebf",
        "IPY_MODEL_05c5d3bbda114d9692ebda2409338314"
       ],
       "layout": "IPY_MODEL_49ec07c14090410383fc884eb49b7000"
      }
     },
     "633b9399e17345c9b923fb583b30fb77": {
      "model_module": "@jupyter-widgets/base",
      "model_module_version": "1.2.0",
      "model_name": "LayoutModel",
      "state": {
       "_model_module": "@jupyter-widgets/base",
       "_model_module_version": "1.2.0",
       "_model_name": "LayoutModel",
       "_view_count": null,
       "_view_module": "@jupyter-widgets/base",
       "_view_module_version": "1.2.0",
       "_view_name": "LayoutView",
       "align_content": null,
       "align_items": null,
       "align_self": null,
       "border": null,
       "bottom": null,
       "display": null,
       "flex": null,
       "flex_flow": null,
       "grid_area": null,
       "grid_auto_columns": null,
       "grid_auto_flow": null,
       "grid_auto_rows": null,
       "grid_column": null,
       "grid_gap": null,
       "grid_row": null,
       "grid_template_areas": null,
       "grid_template_columns": null,
       "grid_template_rows": null,
       "height": null,
       "justify_content": null,
       "justify_items": null,
       "left": null,
       "margin": null,
       "max_height": null,
       "max_width": null,
       "min_height": null,
       "min_width": null,
       "object_fit": null,
       "object_position": null,
       "order": null,
       "overflow": null,
       "overflow_x": null,
       "overflow_y": null,
       "padding": null,
       "right": null,
       "top": null,
       "visibility": null,
       "width": null
      }
     },
     "63b09b11cb4e4e8586722175ca92a756": {
      "model_module": "@jupyter-widgets/base",
      "model_module_version": "1.2.0",
      "model_name": "LayoutModel",
      "state": {
       "_model_module": "@jupyter-widgets/base",
       "_model_module_version": "1.2.0",
       "_model_name": "LayoutModel",
       "_view_count": null,
       "_view_module": "@jupyter-widgets/base",
       "_view_module_version": "1.2.0",
       "_view_name": "LayoutView",
       "align_content": null,
       "align_items": null,
       "align_self": null,
       "border": null,
       "bottom": null,
       "display": null,
       "flex": null,
       "flex_flow": null,
       "grid_area": null,
       "grid_auto_columns": null,
       "grid_auto_flow": null,
       "grid_auto_rows": null,
       "grid_column": null,
       "grid_gap": null,
       "grid_row": null,
       "grid_template_areas": null,
       "grid_template_columns": null,
       "grid_template_rows": null,
       "height": null,
       "justify_content": null,
       "justify_items": null,
       "left": null,
       "margin": null,
       "max_height": null,
       "max_width": null,
       "min_height": null,
       "min_width": null,
       "object_fit": null,
       "object_position": null,
       "order": null,
       "overflow": null,
       "overflow_x": null,
       "overflow_y": null,
       "padding": null,
       "right": null,
       "top": null,
       "visibility": null,
       "width": null
      }
     },
     "63f9be02e84949fea6d2a4ec9da1fbb0": {
      "model_module": "@jupyter-widgets/base",
      "model_module_version": "1.2.0",
      "model_name": "LayoutModel",
      "state": {
       "_model_module": "@jupyter-widgets/base",
       "_model_module_version": "1.2.0",
       "_model_name": "LayoutModel",
       "_view_count": null,
       "_view_module": "@jupyter-widgets/base",
       "_view_module_version": "1.2.0",
       "_view_name": "LayoutView",
       "align_content": null,
       "align_items": null,
       "align_self": null,
       "border": null,
       "bottom": null,
       "display": null,
       "flex": null,
       "flex_flow": null,
       "grid_area": null,
       "grid_auto_columns": null,
       "grid_auto_flow": null,
       "grid_auto_rows": null,
       "grid_column": null,
       "grid_gap": null,
       "grid_row": null,
       "grid_template_areas": null,
       "grid_template_columns": null,
       "grid_template_rows": null,
       "height": null,
       "justify_content": null,
       "justify_items": null,
       "left": null,
       "margin": null,
       "max_height": null,
       "max_width": null,
       "min_height": null,
       "min_width": null,
       "object_fit": null,
       "object_position": null,
       "order": null,
       "overflow": null,
       "overflow_x": null,
       "overflow_y": null,
       "padding": null,
       "right": null,
       "top": null,
       "visibility": null,
       "width": null
      }
     },
     "68f27c38297649c9a06bde8dbba204b0": {
      "model_module": "@jupyter-widgets/controls",
      "model_module_version": "1.5.0",
      "model_name": "FloatProgressModel",
      "state": {
       "_dom_classes": [],
       "_model_module": "@jupyter-widgets/controls",
       "_model_module_version": "1.5.0",
       "_model_name": "FloatProgressModel",
       "_view_count": null,
       "_view_module": "@jupyter-widgets/controls",
       "_view_module_version": "1.5.0",
       "_view_name": "ProgressView",
       "bar_style": "success",
       "description": "",
       "description_tooltip": null,
       "layout": "IPY_MODEL_520630552aa745fdb726b511672f4df9",
       "max": 498679497,
       "min": 0,
       "orientation": "horizontal",
       "style": "IPY_MODEL_1b319db4659444639c9bd242f5872445",
       "value": 498679497
      }
     },
     "6a3c7332cdf54928a980a0ae04580675": {
      "model_module": "@jupyter-widgets/controls",
      "model_module_version": "1.5.0",
      "model_name": "FloatProgressModel",
      "state": {
       "_dom_classes": [],
       "_model_module": "@jupyter-widgets/controls",
       "_model_module_version": "1.5.0",
       "_model_name": "FloatProgressModel",
       "_view_count": null,
       "_view_module": "@jupyter-widgets/controls",
       "_view_module_version": "1.5.0",
       "_view_name": "ProgressView",
       "bar_style": "success",
       "description": "",
       "description_tooltip": null,
       "layout": "IPY_MODEL_6bd16b97eea44e85b0708b7a25f42298",
       "max": 898822,
       "min": 0,
       "orientation": "horizontal",
       "style": "IPY_MODEL_4c88dca972b548be8469fa7a3f5e463f",
       "value": 898822
      }
     },
     "6a9b0ee444534121bdd347f46ef0f85a": {
      "model_module": "@jupyter-widgets/controls",
      "model_module_version": "1.5.0",
      "model_name": "DescriptionStyleModel",
      "state": {
       "_model_module": "@jupyter-widgets/controls",
       "_model_module_version": "1.5.0",
       "_model_name": "DescriptionStyleModel",
       "_view_count": null,
       "_view_module": "@jupyter-widgets/base",
       "_view_module_version": "1.2.0",
       "_view_name": "StyleView",
       "description_width": ""
      }
     },
     "6ab834f165cc4018944662a92f413ebf": {
      "model_module": "@jupyter-widgets/controls",
      "model_module_version": "1.5.0",
      "model_name": "FloatProgressModel",
      "state": {
       "_dom_classes": [],
       "_model_module": "@jupyter-widgets/controls",
       "_model_module_version": "1.5.0",
       "_model_name": "FloatProgressModel",
       "_view_count": null,
       "_view_module": "@jupyter-widgets/controls",
       "_view_module_version": "1.5.0",
       "_view_name": "ProgressView",
       "bar_style": "success",
       "description": "",
       "description_tooltip": null,
       "layout": "IPY_MODEL_5e1cf6f110fa43278ccb89b0b2733df2",
       "max": 500,
       "min": 0,
       "orientation": "horizontal",
       "style": "IPY_MODEL_2cf7ea657841426d8c939706d4b997c4",
       "value": 500
      }
     },
     "6b8915e22b89435cbe0136e2c0c02795": {
      "model_module": "@jupyter-widgets/controls",
      "model_module_version": "1.5.0",
      "model_name": "HTMLModel",
      "state": {
       "_dom_classes": [],
       "_model_module": "@jupyter-widgets/controls",
       "_model_module_version": "1.5.0",
       "_model_name": "HTMLModel",
       "_view_count": null,
       "_view_module": "@jupyter-widgets/controls",
       "_view_module_version": "1.5.0",
       "_view_name": "HTMLView",
       "description": "",
       "description_tooltip": null,
       "layout": "IPY_MODEL_4bbe9ff6b12848efb7dfe9d103644f6e",
       "placeholder": "​",
       "style": "IPY_MODEL_24dadae082ef45bfa801afec2f0fc013",
       "value": " 500/500 [00:00&lt;00:00, 901.30it/s]"
      }
     },
     "6bd16b97eea44e85b0708b7a25f42298": {
      "model_module": "@jupyter-widgets/base",
      "model_module_version": "1.2.0",
      "model_name": "LayoutModel",
      "state": {
       "_model_module": "@jupyter-widgets/base",
       "_model_module_version": "1.2.0",
       "_model_name": "LayoutModel",
       "_view_count": null,
       "_view_module": "@jupyter-widgets/base",
       "_view_module_version": "1.2.0",
       "_view_name": "LayoutView",
       "align_content": null,
       "align_items": null,
       "align_self": null,
       "border": null,
       "bottom": null,
       "display": null,
       "flex": null,
       "flex_flow": null,
       "grid_area": null,
       "grid_auto_columns": null,
       "grid_auto_flow": null,
       "grid_auto_rows": null,
       "grid_column": null,
       "grid_gap": null,
       "grid_row": null,
       "grid_template_areas": null,
       "grid_template_columns": null,
       "grid_template_rows": null,
       "height": null,
       "justify_content": null,
       "justify_items": null,
       "left": null,
       "margin": null,
       "max_height": null,
       "max_width": null,
       "min_height": null,
       "min_width": null,
       "object_fit": null,
       "object_position": null,
       "order": null,
       "overflow": null,
       "overflow_x": null,
       "overflow_y": null,
       "padding": null,
       "right": null,
       "top": null,
       "visibility": null,
       "width": null
      }
     },
     "70d7c5980492411f880e3aa8aca6df81": {
      "model_module": "@jupyter-widgets/controls",
      "model_module_version": "1.5.0",
      "model_name": "DescriptionStyleModel",
      "state": {
       "_model_module": "@jupyter-widgets/controls",
       "_model_module_version": "1.5.0",
       "_model_name": "DescriptionStyleModel",
       "_view_count": null,
       "_view_module": "@jupyter-widgets/base",
       "_view_module_version": "1.2.0",
       "_view_name": "StyleView",
       "description_width": ""
      }
     },
     "77f8a387dbd04f869cc35bbf0d957bac": {
      "model_module": "@jupyter-widgets/base",
      "model_module_version": "1.2.0",
      "model_name": "LayoutModel",
      "state": {
       "_model_module": "@jupyter-widgets/base",
       "_model_module_version": "1.2.0",
       "_model_name": "LayoutModel",
       "_view_count": null,
       "_view_module": "@jupyter-widgets/base",
       "_view_module_version": "1.2.0",
       "_view_name": "LayoutView",
       "align_content": null,
       "align_items": null,
       "align_self": null,
       "border": null,
       "bottom": null,
       "display": null,
       "flex": null,
       "flex_flow": null,
       "grid_area": null,
       "grid_auto_columns": null,
       "grid_auto_flow": null,
       "grid_auto_rows": null,
       "grid_column": null,
       "grid_gap": null,
       "grid_row": null,
       "grid_template_areas": null,
       "grid_template_columns": null,
       "grid_template_rows": null,
       "height": null,
       "justify_content": null,
       "justify_items": null,
       "left": null,
       "margin": null,
       "max_height": null,
       "max_width": null,
       "min_height": null,
       "min_width": null,
       "object_fit": null,
       "object_position": null,
       "order": null,
       "overflow": null,
       "overflow_x": null,
       "overflow_y": null,
       "padding": null,
       "right": null,
       "top": null,
       "visibility": null,
       "width": null
      }
     },
     "796d49d0d5b64963ac038a70f66215c4": {
      "model_module": "@jupyter-widgets/base",
      "model_module_version": "1.2.0",
      "model_name": "LayoutModel",
      "state": {
       "_model_module": "@jupyter-widgets/base",
       "_model_module_version": "1.2.0",
       "_model_name": "LayoutModel",
       "_view_count": null,
       "_view_module": "@jupyter-widgets/base",
       "_view_module_version": "1.2.0",
       "_view_name": "LayoutView",
       "align_content": null,
       "align_items": null,
       "align_self": null,
       "border": null,
       "bottom": null,
       "display": null,
       "flex": null,
       "flex_flow": null,
       "grid_area": null,
       "grid_auto_columns": null,
       "grid_auto_flow": null,
       "grid_auto_rows": null,
       "grid_column": null,
       "grid_gap": null,
       "grid_row": null,
       "grid_template_areas": null,
       "grid_template_columns": null,
       "grid_template_rows": null,
       "height": null,
       "justify_content": null,
       "justify_items": null,
       "left": null,
       "margin": null,
       "max_height": null,
       "max_width": null,
       "min_height": null,
       "min_width": null,
       "object_fit": null,
       "object_position": null,
       "order": null,
       "overflow": null,
       "overflow_x": null,
       "overflow_y": null,
       "padding": null,
       "right": null,
       "top": null,
       "visibility": null,
       "width": null
      }
     },
     "7a04d1dbd52d48ff81476f88fcdb8311": {
      "model_module": "@jupyter-widgets/base",
      "model_module_version": "1.2.0",
      "model_name": "LayoutModel",
      "state": {
       "_model_module": "@jupyter-widgets/base",
       "_model_module_version": "1.2.0",
       "_model_name": "LayoutModel",
       "_view_count": null,
       "_view_module": "@jupyter-widgets/base",
       "_view_module_version": "1.2.0",
       "_view_name": "LayoutView",
       "align_content": null,
       "align_items": null,
       "align_self": null,
       "border": null,
       "bottom": null,
       "display": null,
       "flex": null,
       "flex_flow": null,
       "grid_area": null,
       "grid_auto_columns": null,
       "grid_auto_flow": null,
       "grid_auto_rows": null,
       "grid_column": null,
       "grid_gap": null,
       "grid_row": null,
       "grid_template_areas": null,
       "grid_template_columns": null,
       "grid_template_rows": null,
       "height": null,
       "justify_content": null,
       "justify_items": null,
       "left": null,
       "margin": null,
       "max_height": null,
       "max_width": null,
       "min_height": null,
       "min_width": null,
       "object_fit": null,
       "object_position": null,
       "order": null,
       "overflow": null,
       "overflow_x": null,
       "overflow_y": null,
       "padding": null,
       "right": null,
       "top": null,
       "visibility": null,
       "width": null
      }
     },
     "7c4ea39e7b00413e998803eef39344e6": {
      "model_module": "@jupyter-widgets/controls",
      "model_module_version": "1.5.0",
      "model_name": "HBoxModel",
      "state": {
       "_dom_classes": [],
       "_model_module": "@jupyter-widgets/controls",
       "_model_module_version": "1.5.0",
       "_model_name": "HBoxModel",
       "_view_count": null,
       "_view_module": "@jupyter-widgets/controls",
       "_view_module_version": "1.5.0",
       "_view_name": "HBoxView",
       "box_style": "",
       "children": [
        "IPY_MODEL_08836e36321840ce8b3e7c2aeda735cd",
        "IPY_MODEL_eeb21cad8c134a9ea98cd5cce30a3166",
        "IPY_MODEL_5a613e1a3ac14f809a62303e9f285101"
       ],
       "layout": "IPY_MODEL_8f7a0c1a26004f5ba6b4577ca49dc191"
      }
     },
     "7c572e6611184659ab89865f6db6037e": {
      "model_module": "@jupyter-widgets/controls",
      "model_module_version": "1.5.0",
      "model_name": "DescriptionStyleModel",
      "state": {
       "_model_module": "@jupyter-widgets/controls",
       "_model_module_version": "1.5.0",
       "_model_name": "DescriptionStyleModel",
       "_view_count": null,
       "_view_module": "@jupyter-widgets/base",
       "_view_module_version": "1.2.0",
       "_view_name": "StyleView",
       "description_width": ""
      }
     },
     "7ecf1fb0ff7f4805a1dec593eb2cc341": {
      "model_module": "@jupyter-widgets/controls",
      "model_module_version": "1.5.0",
      "model_name": "DescriptionStyleModel",
      "state": {
       "_model_module": "@jupyter-widgets/controls",
       "_model_module_version": "1.5.0",
       "_model_name": "DescriptionStyleModel",
       "_view_count": null,
       "_view_module": "@jupyter-widgets/base",
       "_view_module_version": "1.2.0",
       "_view_name": "StyleView",
       "description_width": ""
      }
     },
     "7fa25ab5862140bdbe0b894d03817b94": {
      "model_module": "@jupyter-widgets/base",
      "model_module_version": "1.2.0",
      "model_name": "LayoutModel",
      "state": {
       "_model_module": "@jupyter-widgets/base",
       "_model_module_version": "1.2.0",
       "_model_name": "LayoutModel",
       "_view_count": null,
       "_view_module": "@jupyter-widgets/base",
       "_view_module_version": "1.2.0",
       "_view_name": "LayoutView",
       "align_content": null,
       "align_items": null,
       "align_self": null,
       "border": null,
       "bottom": null,
       "display": null,
       "flex": null,
       "flex_flow": null,
       "grid_area": null,
       "grid_auto_columns": null,
       "grid_auto_flow": null,
       "grid_auto_rows": null,
       "grid_column": null,
       "grid_gap": null,
       "grid_row": null,
       "grid_template_areas": null,
       "grid_template_columns": null,
       "grid_template_rows": null,
       "height": null,
       "justify_content": null,
       "justify_items": null,
       "left": null,
       "margin": null,
       "max_height": null,
       "max_width": null,
       "min_height": null,
       "min_width": null,
       "object_fit": null,
       "object_position": null,
       "order": null,
       "overflow": null,
       "overflow_x": null,
       "overflow_y": null,
       "padding": null,
       "right": null,
       "top": null,
       "visibility": null,
       "width": null
      }
     },
     "8718918ce7914eeba6588baf3c337407": {
      "model_module": "@jupyter-widgets/controls",
      "model_module_version": "1.5.0",
      "model_name": "DescriptionStyleModel",
      "state": {
       "_model_module": "@jupyter-widgets/controls",
       "_model_module_version": "1.5.0",
       "_model_name": "DescriptionStyleModel",
       "_view_count": null,
       "_view_module": "@jupyter-widgets/base",
       "_view_module_version": "1.2.0",
       "_view_name": "StyleView",
       "description_width": ""
      }
     },
     "88455c5bd1f94f05b7ff96958e56d296": {
      "model_module": "@jupyter-widgets/controls",
      "model_module_version": "1.5.0",
      "model_name": "HTMLModel",
      "state": {
       "_dom_classes": [],
       "_model_module": "@jupyter-widgets/controls",
       "_model_module_version": "1.5.0",
       "_model_name": "HTMLModel",
       "_view_count": null,
       "_view_module": "@jupyter-widgets/controls",
       "_view_module_version": "1.5.0",
       "_view_name": "HTMLView",
       "description": "",
       "description_tooltip": null,
       "layout": "IPY_MODEL_f65d3b8cbbf24ec886680dbf25a3b324",
       "placeholder": "​",
       "style": "IPY_MODEL_4eabb62ae82f43c9aca79c6dd5336f38",
       "value": "Downloading: 100%"
      }
     },
     "88ac3217279c4ce6bb04fb58b9734a3f": {
      "model_module": "@jupyter-widgets/base",
      "model_module_version": "1.2.0",
      "model_name": "LayoutModel",
      "state": {
       "_model_module": "@jupyter-widgets/base",
       "_model_module_version": "1.2.0",
       "_model_name": "LayoutModel",
       "_view_count": null,
       "_view_module": "@jupyter-widgets/base",
       "_view_module_version": "1.2.0",
       "_view_name": "LayoutView",
       "align_content": null,
       "align_items": null,
       "align_self": null,
       "border": null,
       "bottom": null,
       "display": null,
       "flex": null,
       "flex_flow": null,
       "grid_area": null,
       "grid_auto_columns": null,
       "grid_auto_flow": null,
       "grid_auto_rows": null,
       "grid_column": null,
       "grid_gap": null,
       "grid_row": null,
       "grid_template_areas": null,
       "grid_template_columns": null,
       "grid_template_rows": null,
       "height": null,
       "justify_content": null,
       "justify_items": null,
       "left": null,
       "margin": null,
       "max_height": null,
       "max_width": null,
       "min_height": null,
       "min_width": null,
       "object_fit": null,
       "object_position": null,
       "order": null,
       "overflow": null,
       "overflow_x": null,
       "overflow_y": null,
       "padding": null,
       "right": null,
       "top": null,
       "visibility": null,
       "width": null
      }
     },
     "8d4f353f062c467294d6fe8472016194": {
      "model_module": "@jupyter-widgets/base",
      "model_module_version": "1.2.0",
      "model_name": "LayoutModel",
      "state": {
       "_model_module": "@jupyter-widgets/base",
       "_model_module_version": "1.2.0",
       "_model_name": "LayoutModel",
       "_view_count": null,
       "_view_module": "@jupyter-widgets/base",
       "_view_module_version": "1.2.0",
       "_view_name": "LayoutView",
       "align_content": null,
       "align_items": null,
       "align_self": null,
       "border": null,
       "bottom": null,
       "display": null,
       "flex": null,
       "flex_flow": null,
       "grid_area": null,
       "grid_auto_columns": null,
       "grid_auto_flow": null,
       "grid_auto_rows": null,
       "grid_column": null,
       "grid_gap": null,
       "grid_row": null,
       "grid_template_areas": null,
       "grid_template_columns": null,
       "grid_template_rows": null,
       "height": null,
       "justify_content": null,
       "justify_items": null,
       "left": null,
       "margin": null,
       "max_height": null,
       "max_width": null,
       "min_height": null,
       "min_width": null,
       "object_fit": null,
       "object_position": null,
       "order": null,
       "overflow": null,
       "overflow_x": null,
       "overflow_y": null,
       "padding": null,
       "right": null,
       "top": null,
       "visibility": null,
       "width": null
      }
     },
     "8f7a0c1a26004f5ba6b4577ca49dc191": {
      "model_module": "@jupyter-widgets/base",
      "model_module_version": "1.2.0",
      "model_name": "LayoutModel",
      "state": {
       "_model_module": "@jupyter-widgets/base",
       "_model_module_version": "1.2.0",
       "_model_name": "LayoutModel",
       "_view_count": null,
       "_view_module": "@jupyter-widgets/base",
       "_view_module_version": "1.2.0",
       "_view_name": "LayoutView",
       "align_content": null,
       "align_items": null,
       "align_self": null,
       "border": null,
       "bottom": null,
       "display": null,
       "flex": null,
       "flex_flow": null,
       "grid_area": null,
       "grid_auto_columns": null,
       "grid_auto_flow": null,
       "grid_auto_rows": null,
       "grid_column": null,
       "grid_gap": null,
       "grid_row": null,
       "grid_template_areas": null,
       "grid_template_columns": null,
       "grid_template_rows": null,
       "height": null,
       "justify_content": null,
       "justify_items": null,
       "left": null,
       "margin": null,
       "max_height": null,
       "max_width": null,
       "min_height": null,
       "min_width": null,
       "object_fit": null,
       "object_position": null,
       "order": null,
       "overflow": null,
       "overflow_x": null,
       "overflow_y": null,
       "padding": null,
       "right": null,
       "top": null,
       "visibility": null,
       "width": null
      }
     },
     "9036a06730424f0981346873c0db6659": {
      "model_module": "@jupyter-widgets/base",
      "model_module_version": "1.2.0",
      "model_name": "LayoutModel",
      "state": {
       "_model_module": "@jupyter-widgets/base",
       "_model_module_version": "1.2.0",
       "_model_name": "LayoutModel",
       "_view_count": null,
       "_view_module": "@jupyter-widgets/base",
       "_view_module_version": "1.2.0",
       "_view_name": "LayoutView",
       "align_content": null,
       "align_items": null,
       "align_self": null,
       "border": null,
       "bottom": null,
       "display": null,
       "flex": null,
       "flex_flow": null,
       "grid_area": null,
       "grid_auto_columns": null,
       "grid_auto_flow": null,
       "grid_auto_rows": null,
       "grid_column": null,
       "grid_gap": null,
       "grid_row": null,
       "grid_template_areas": null,
       "grid_template_columns": null,
       "grid_template_rows": null,
       "height": null,
       "justify_content": null,
       "justify_items": null,
       "left": null,
       "margin": null,
       "max_height": null,
       "max_width": null,
       "min_height": null,
       "min_width": null,
       "object_fit": null,
       "object_position": null,
       "order": null,
       "overflow": null,
       "overflow_x": null,
       "overflow_y": null,
       "padding": null,
       "right": null,
       "top": null,
       "visibility": null,
       "width": null
      }
     },
     "9276833d09274bb5849eebbb564e0cbe": {
      "model_module": "@jupyter-widgets/controls",
      "model_module_version": "1.5.0",
      "model_name": "HTMLModel",
      "state": {
       "_dom_classes": [],
       "_model_module": "@jupyter-widgets/controls",
       "_model_module_version": "1.5.0",
       "_model_name": "HTMLModel",
       "_view_count": null,
       "_view_module": "@jupyter-widgets/controls",
       "_view_module_version": "1.5.0",
       "_view_name": "HTMLView",
       "description": "",
       "description_tooltip": null,
       "layout": "IPY_MODEL_a16e55f463c2461da1f42a618bb7f736",
       "placeholder": "​",
       "style": "IPY_MODEL_51e9f82bab7844a6aebf192dc72fe3f4",
       "value": " 476M/476M [00:22&lt;00:00, 23.4MB/s]"
      }
     },
     "9457b69adb4d4f02a7329ff2a2d3d854": {
      "model_module": "@jupyter-widgets/controls",
      "model_module_version": "1.5.0",
      "model_name": "ProgressStyleModel",
      "state": {
       "_model_module": "@jupyter-widgets/controls",
       "_model_module_version": "1.5.0",
       "_model_name": "ProgressStyleModel",
       "_view_count": null,
       "_view_module": "@jupyter-widgets/base",
       "_view_module_version": "1.2.0",
       "_view_name": "StyleView",
       "bar_color": null,
       "description_width": ""
      }
     },
     "95b4bd195c9546d3bbe3e4039f6871d4": {
      "model_module": "@jupyter-widgets/base",
      "model_module_version": "1.2.0",
      "model_name": "LayoutModel",
      "state": {
       "_model_module": "@jupyter-widgets/base",
       "_model_module_version": "1.2.0",
       "_model_name": "LayoutModel",
       "_view_count": null,
       "_view_module": "@jupyter-widgets/base",
       "_view_module_version": "1.2.0",
       "_view_name": "LayoutView",
       "align_content": null,
       "align_items": null,
       "align_self": null,
       "border": null,
       "bottom": null,
       "display": null,
       "flex": null,
       "flex_flow": null,
       "grid_area": null,
       "grid_auto_columns": null,
       "grid_auto_flow": null,
       "grid_auto_rows": null,
       "grid_column": null,
       "grid_gap": null,
       "grid_row": null,
       "grid_template_areas": null,
       "grid_template_columns": null,
       "grid_template_rows": null,
       "height": null,
       "justify_content": null,
       "justify_items": null,
       "left": null,
       "margin": null,
       "max_height": null,
       "max_width": null,
       "min_height": null,
       "min_width": null,
       "object_fit": null,
       "object_position": null,
       "order": null,
       "overflow": null,
       "overflow_x": null,
       "overflow_y": null,
       "padding": null,
       "right": null,
       "top": null,
       "visibility": null,
       "width": null
      }
     },
     "96e9c5783e9c4a19a933f6a515bcfa6e": {
      "model_module": "@jupyter-widgets/base",
      "model_module_version": "1.2.0",
      "model_name": "LayoutModel",
      "state": {
       "_model_module": "@jupyter-widgets/base",
       "_model_module_version": "1.2.0",
       "_model_name": "LayoutModel",
       "_view_count": null,
       "_view_module": "@jupyter-widgets/base",
       "_view_module_version": "1.2.0",
       "_view_name": "LayoutView",
       "align_content": null,
       "align_items": null,
       "align_self": null,
       "border": null,
       "bottom": null,
       "display": null,
       "flex": null,
       "flex_flow": null,
       "grid_area": null,
       "grid_auto_columns": null,
       "grid_auto_flow": null,
       "grid_auto_rows": null,
       "grid_column": null,
       "grid_gap": null,
       "grid_row": null,
       "grid_template_areas": null,
       "grid_template_columns": null,
       "grid_template_rows": null,
       "height": null,
       "justify_content": null,
       "justify_items": null,
       "left": null,
       "margin": null,
       "max_height": null,
       "max_width": null,
       "min_height": null,
       "min_width": null,
       "object_fit": null,
       "object_position": null,
       "order": null,
       "overflow": null,
       "overflow_x": null,
       "overflow_y": null,
       "padding": null,
       "right": null,
       "top": null,
       "visibility": null,
       "width": null
      }
     },
     "9b87f5df51ad4c3896c04a39e601ea81": {
      "model_module": "@jupyter-widgets/controls",
      "model_module_version": "1.5.0",
      "model_name": "HTMLModel",
      "state": {
       "_dom_classes": [],
       "_model_module": "@jupyter-widgets/controls",
       "_model_module_version": "1.5.0",
       "_model_name": "HTMLModel",
       "_view_count": null,
       "_view_module": "@jupyter-widgets/controls",
       "_view_module_version": "1.5.0",
       "_view_name": "HTMLView",
       "description": "",
       "description_tooltip": null,
       "layout": "IPY_MODEL_88ac3217279c4ce6bb04fb58b9734a3f",
       "placeholder": "​",
       "style": "IPY_MODEL_ef2c5a7349674c08af93a5205ee39a90",
       "value": " 747/747 [00:00&lt;00:00, 23.7kB/s]"
      }
     },
     "9bd5051195a14bf4af55dfe6eea4e353": {
      "model_module": "@jupyter-widgets/controls",
      "model_module_version": "1.5.0",
      "model_name": "HTMLModel",
      "state": {
       "_dom_classes": [],
       "_model_module": "@jupyter-widgets/controls",
       "_model_module_version": "1.5.0",
       "_model_name": "HTMLModel",
       "_view_count": null,
       "_view_module": "@jupyter-widgets/controls",
       "_view_module_version": "1.5.0",
       "_view_name": "HTMLView",
       "description": "",
       "description_tooltip": null,
       "layout": "IPY_MODEL_63b09b11cb4e4e8586722175ca92a756",
       "placeholder": "​",
       "style": "IPY_MODEL_2cce0e33f963441e8ea4f68e4039b067",
       "value": "Downloading: 100%"
      }
     },
     "9cb3f851616244a29f55b7400e98bc72": {
      "model_module": "@jupyter-widgets/controls",
      "model_module_version": "1.5.0",
      "model_name": "HTMLModel",
      "state": {
       "_dom_classes": [],
       "_model_module": "@jupyter-widgets/controls",
       "_model_module_version": "1.5.0",
       "_model_name": "HTMLModel",
       "_view_count": null,
       "_view_module": "@jupyter-widgets/controls",
       "_view_module_version": "1.5.0",
       "_view_name": "HTMLView",
       "description": "",
       "description_tooltip": null,
       "layout": "IPY_MODEL_3fafdb6a7f2f4669a3ee78ef852ecf99",
       "placeholder": "​",
       "style": "IPY_MODEL_185c35cda2e4473886a920cac2764c25",
       "value": "Downloading: 100%"
      }
     },
     "a16e55f463c2461da1f42a618bb7f736": {
      "model_module": "@jupyter-widgets/base",
      "model_module_version": "1.2.0",
      "model_name": "LayoutModel",
      "state": {
       "_model_module": "@jupyter-widgets/base",
       "_model_module_version": "1.2.0",
       "_model_name": "LayoutModel",
       "_view_count": null,
       "_view_module": "@jupyter-widgets/base",
       "_view_module_version": "1.2.0",
       "_view_name": "LayoutView",
       "align_content": null,
       "align_items": null,
       "align_self": null,
       "border": null,
       "bottom": null,
       "display": null,
       "flex": null,
       "flex_flow": null,
       "grid_area": null,
       "grid_auto_columns": null,
       "grid_auto_flow": null,
       "grid_auto_rows": null,
       "grid_column": null,
       "grid_gap": null,
       "grid_row": null,
       "grid_template_areas": null,
       "grid_template_columns": null,
       "grid_template_rows": null,
       "height": null,
       "justify_content": null,
       "justify_items": null,
       "left": null,
       "margin": null,
       "max_height": null,
       "max_width": null,
       "min_height": null,
       "min_width": null,
       "object_fit": null,
       "object_position": null,
       "order": null,
       "overflow": null,
       "overflow_x": null,
       "overflow_y": null,
       "padding": null,
       "right": null,
       "top": null,
       "visibility": null,
       "width": null
      }
     },
     "a4195637667e48c7af9d7b17707bd62e": {
      "model_module": "@jupyter-widgets/base",
      "model_module_version": "1.2.0",
      "model_name": "LayoutModel",
      "state": {
       "_model_module": "@jupyter-widgets/base",
       "_model_module_version": "1.2.0",
       "_model_name": "LayoutModel",
       "_view_count": null,
       "_view_module": "@jupyter-widgets/base",
       "_view_module_version": "1.2.0",
       "_view_name": "LayoutView",
       "align_content": null,
       "align_items": null,
       "align_self": null,
       "border": null,
       "bottom": null,
       "display": null,
       "flex": null,
       "flex_flow": null,
       "grid_area": null,
       "grid_auto_columns": null,
       "grid_auto_flow": null,
       "grid_auto_rows": null,
       "grid_column": null,
       "grid_gap": null,
       "grid_row": null,
       "grid_template_areas": null,
       "grid_template_columns": null,
       "grid_template_rows": null,
       "height": null,
       "justify_content": null,
       "justify_items": null,
       "left": null,
       "margin": null,
       "max_height": null,
       "max_width": null,
       "min_height": null,
       "min_width": null,
       "object_fit": null,
       "object_position": null,
       "order": null,
       "overflow": null,
       "overflow_x": null,
       "overflow_y": null,
       "padding": null,
       "right": null,
       "top": null,
       "visibility": null,
       "width": null
      }
     },
     "a4e5fe0b8d3740729c5be37d75fff193": {
      "model_module": "@jupyter-widgets/controls",
      "model_module_version": "1.5.0",
      "model_name": "DescriptionStyleModel",
      "state": {
       "_model_module": "@jupyter-widgets/controls",
       "_model_module_version": "1.5.0",
       "_model_name": "DescriptionStyleModel",
       "_view_count": null,
       "_view_module": "@jupyter-widgets/base",
       "_view_module_version": "1.2.0",
       "_view_name": "StyleView",
       "description_width": ""
      }
     },
     "a7b9b1bfd30c42ba94bff021435f45f3": {
      "model_module": "@jupyter-widgets/controls",
      "model_module_version": "1.5.0",
      "model_name": "FloatProgressModel",
      "state": {
       "_dom_classes": [],
       "_model_module": "@jupyter-widgets/controls",
       "_model_module_version": "1.5.0",
       "_model_name": "FloatProgressModel",
       "_view_count": null,
       "_view_module": "@jupyter-widgets/controls",
       "_view_module_version": "1.5.0",
       "_view_name": "ProgressView",
       "bar_style": "success",
       "description": "",
       "description_tooltip": null,
       "layout": "IPY_MODEL_4af77d436afa4e2b90ca52cc9e58b9c7",
       "max": 500,
       "min": 0,
       "orientation": "horizontal",
       "style": "IPY_MODEL_183bda2af76747b198c036e4ff94a9d7",
       "value": 500
      }
     },
     "a81969ed9592444d898e1bf80281ed61": {
      "model_module": "@jupyter-widgets/base",
      "model_module_version": "1.2.0",
      "model_name": "LayoutModel",
      "state": {
       "_model_module": "@jupyter-widgets/base",
       "_model_module_version": "1.2.0",
       "_model_name": "LayoutModel",
       "_view_count": null,
       "_view_module": "@jupyter-widgets/base",
       "_view_module_version": "1.2.0",
       "_view_name": "LayoutView",
       "align_content": null,
       "align_items": null,
       "align_self": null,
       "border": null,
       "bottom": null,
       "display": null,
       "flex": null,
       "flex_flow": null,
       "grid_area": null,
       "grid_auto_columns": null,
       "grid_auto_flow": null,
       "grid_auto_rows": null,
       "grid_column": null,
       "grid_gap": null,
       "grid_row": null,
       "grid_template_areas": null,
       "grid_template_columns": null,
       "grid_template_rows": null,
       "height": null,
       "justify_content": null,
       "justify_items": null,
       "left": null,
       "margin": null,
       "max_height": null,
       "max_width": null,
       "min_height": null,
       "min_width": null,
       "object_fit": null,
       "object_position": null,
       "order": null,
       "overflow": null,
       "overflow_x": null,
       "overflow_y": null,
       "padding": null,
       "right": null,
       "top": null,
       "visibility": null,
       "width": null
      }
     },
     "aa6c92de2d4143a2b3205ac8c0e1c0ee": {
      "model_module": "@jupyter-widgets/base",
      "model_module_version": "1.2.0",
      "model_name": "LayoutModel",
      "state": {
       "_model_module": "@jupyter-widgets/base",
       "_model_module_version": "1.2.0",
       "_model_name": "LayoutModel",
       "_view_count": null,
       "_view_module": "@jupyter-widgets/base",
       "_view_module_version": "1.2.0",
       "_view_name": "LayoutView",
       "align_content": null,
       "align_items": null,
       "align_self": null,
       "border": null,
       "bottom": null,
       "display": null,
       "flex": null,
       "flex_flow": null,
       "grid_area": null,
       "grid_auto_columns": null,
       "grid_auto_flow": null,
       "grid_auto_rows": null,
       "grid_column": null,
       "grid_gap": null,
       "grid_row": null,
       "grid_template_areas": null,
       "grid_template_columns": null,
       "grid_template_rows": null,
       "height": null,
       "justify_content": null,
       "justify_items": null,
       "left": null,
       "margin": null,
       "max_height": null,
       "max_width": null,
       "min_height": null,
       "min_width": null,
       "object_fit": null,
       "object_position": null,
       "order": null,
       "overflow": null,
       "overflow_x": null,
       "overflow_y": null,
       "padding": null,
       "right": null,
       "top": null,
       "visibility": null,
       "width": null
      }
     },
     "af65e226fd5c487db59d0247590cd2ec": {
      "model_module": "@jupyter-widgets/controls",
      "model_module_version": "1.5.0",
      "model_name": "FloatProgressModel",
      "state": {
       "_dom_classes": [],
       "_model_module": "@jupyter-widgets/controls",
       "_model_module_version": "1.5.0",
       "_model_name": "FloatProgressModel",
       "_view_count": null,
       "_view_module": "@jupyter-widgets/controls",
       "_view_module_version": "1.5.0",
       "_view_name": "ProgressView",
       "bar_style": "success",
       "description": "",
       "description_tooltip": null,
       "layout": "IPY_MODEL_8d4f353f062c467294d6fe8472016194",
       "max": 150,
       "min": 0,
       "orientation": "horizontal",
       "style": "IPY_MODEL_9457b69adb4d4f02a7329ff2a2d3d854",
       "value": 150
      }
     },
     "b1a986eb43a042a6b68597ad6cb11e9b": {
      "model_module": "@jupyter-widgets/controls",
      "model_module_version": "1.5.0",
      "model_name": "FloatProgressModel",
      "state": {
       "_dom_classes": [],
       "_model_module": "@jupyter-widgets/controls",
       "_model_module_version": "1.5.0",
       "_model_name": "FloatProgressModel",
       "_view_count": null,
       "_view_module": "@jupyter-widgets/controls",
       "_view_module_version": "1.5.0",
       "_view_name": "ProgressView",
       "bar_style": "success",
       "description": "",
       "description_tooltip": null,
       "layout": "IPY_MODEL_57eb6d98652646feaf488f9521db74f5",
       "max": 267844284,
       "min": 0,
       "orientation": "horizontal",
       "style": "IPY_MODEL_b85ddfa408a24bb6b362833a7e741049",
       "value": 267844284
      }
     },
     "b216191ec39d4f16b8a8acb3f520bb39": {
      "model_module": "@jupyter-widgets/controls",
      "model_module_version": "1.5.0",
      "model_name": "HBoxModel",
      "state": {
       "_dom_classes": [],
       "_model_module": "@jupyter-widgets/controls",
       "_model_module_version": "1.5.0",
       "_model_name": "HBoxModel",
       "_view_count": null,
       "_view_module": "@jupyter-widgets/controls",
       "_view_module_version": "1.5.0",
       "_view_name": "HBoxView",
       "box_style": "",
       "children": [
        "IPY_MODEL_5ceeab8ae6f44863947470dddcc54721",
        "IPY_MODEL_2016f028ecfd4921953e468fa277417a",
        "IPY_MODEL_594850bd64094dae8f12bbdb8b22f278"
       ],
       "layout": "IPY_MODEL_543e4f81772544a88403162e63ffbc4f"
      }
     },
     "b2d8eb6700bb47e08c95b751d84ad4e5": {
      "model_module": "@jupyter-widgets/controls",
      "model_module_version": "1.5.0",
      "model_name": "DescriptionStyleModel",
      "state": {
       "_model_module": "@jupyter-widgets/controls",
       "_model_module_version": "1.5.0",
       "_model_name": "DescriptionStyleModel",
       "_view_count": null,
       "_view_module": "@jupyter-widgets/base",
       "_view_module_version": "1.2.0",
       "_view_name": "StyleView",
       "description_width": ""
      }
     },
     "b39b01de0b264006a156c98017a625cb": {
      "model_module": "@jupyter-widgets/controls",
      "model_module_version": "1.5.0",
      "model_name": "HTMLModel",
      "state": {
       "_dom_classes": [],
       "_model_module": "@jupyter-widgets/controls",
       "_model_module_version": "1.5.0",
       "_model_name": "HTMLModel",
       "_view_count": null,
       "_view_module": "@jupyter-widgets/controls",
       "_view_module_version": "1.5.0",
       "_view_name": "HTMLView",
       "description": "",
       "description_tooltip": null,
       "layout": "IPY_MODEL_e8be0fc78005498890180819f9554216",
       "placeholder": "​",
       "style": "IPY_MODEL_a4e5fe0b8d3740729c5be37d75fff193",
       "value": " 629/629 [00:00&lt;00:00, 20.9kB/s]"
      }
     },
     "b4736464f0934fffa9f00af358c013ff": {
      "model_module": "@jupyter-widgets/controls",
      "model_module_version": "1.5.0",
      "model_name": "DescriptionStyleModel",
      "state": {
       "_model_module": "@jupyter-widgets/controls",
       "_model_module_version": "1.5.0",
       "_model_name": "DescriptionStyleModel",
       "_view_count": null,
       "_view_module": "@jupyter-widgets/base",
       "_view_module_version": "1.2.0",
       "_view_name": "StyleView",
       "description_width": ""
      }
     },
     "b85ddfa408a24bb6b362833a7e741049": {
      "model_module": "@jupyter-widgets/controls",
      "model_module_version": "1.5.0",
      "model_name": "ProgressStyleModel",
      "state": {
       "_model_module": "@jupyter-widgets/controls",
       "_model_module_version": "1.5.0",
       "_model_name": "ProgressStyleModel",
       "_view_count": null,
       "_view_module": "@jupyter-widgets/base",
       "_view_module_version": "1.2.0",
       "_view_name": "StyleView",
       "bar_color": null,
       "description_width": ""
      }
     },
     "b9314444c0b541bfaddcdff19751747e": {
      "model_module": "@jupyter-widgets/controls",
      "model_module_version": "1.5.0",
      "model_name": "HBoxModel",
      "state": {
       "_dom_classes": [],
       "_model_module": "@jupyter-widgets/controls",
       "_model_module_version": "1.5.0",
       "_model_name": "HBoxModel",
       "_view_count": null,
       "_view_module": "@jupyter-widgets/controls",
       "_view_module_version": "1.5.0",
       "_view_name": "HBoxView",
       "box_style": "",
       "children": [
        "IPY_MODEL_bc9d6afccc8041868ee18eed4ebf7efc",
        "IPY_MODEL_af65e226fd5c487db59d0247590cd2ec",
        "IPY_MODEL_3b7d83d41b9347a4b7a36f96f4d3f699"
       ],
       "layout": "IPY_MODEL_0dfb44d6330c44a4a93ad04eac2de228"
      }
     },
     "bc9d6afccc8041868ee18eed4ebf7efc": {
      "model_module": "@jupyter-widgets/controls",
      "model_module_version": "1.5.0",
      "model_name": "HTMLModel",
      "state": {
       "_dom_classes": [],
       "_model_module": "@jupyter-widgets/controls",
       "_model_module_version": "1.5.0",
       "_model_name": "HTMLModel",
       "_view_count": null,
       "_view_module": "@jupyter-widgets/controls",
       "_view_module_version": "1.5.0",
       "_view_name": "HTMLView",
       "description": "",
       "description_tooltip": null,
       "layout": "IPY_MODEL_c7d724c1a41e49dba895703afa832425",
       "placeholder": "​",
       "style": "IPY_MODEL_7c572e6611184659ab89865f6db6037e",
       "value": "Downloading: 100%"
      }
     },
     "bf0bba0f20834120bc84b4ab295e900b": {
      "model_module": "@jupyter-widgets/controls",
      "model_module_version": "1.5.0",
      "model_name": "DescriptionStyleModel",
      "state": {
       "_model_module": "@jupyter-widgets/controls",
       "_model_module_version": "1.5.0",
       "_model_name": "DescriptionStyleModel",
       "_view_count": null,
       "_view_module": "@jupyter-widgets/base",
       "_view_module_version": "1.2.0",
       "_view_name": "StyleView",
       "description_width": ""
      }
     },
     "c3912dfdf4584cb096d65dd7400822df": {
      "model_module": "@jupyter-widgets/base",
      "model_module_version": "1.2.0",
      "model_name": "LayoutModel",
      "state": {
       "_model_module": "@jupyter-widgets/base",
       "_model_module_version": "1.2.0",
       "_model_name": "LayoutModel",
       "_view_count": null,
       "_view_module": "@jupyter-widgets/base",
       "_view_module_version": "1.2.0",
       "_view_name": "LayoutView",
       "align_content": null,
       "align_items": null,
       "align_self": null,
       "border": null,
       "bottom": null,
       "display": null,
       "flex": null,
       "flex_flow": null,
       "grid_area": null,
       "grid_auto_columns": null,
       "grid_auto_flow": null,
       "grid_auto_rows": null,
       "grid_column": null,
       "grid_gap": null,
       "grid_row": null,
       "grid_template_areas": null,
       "grid_template_columns": null,
       "grid_template_rows": null,
       "height": null,
       "justify_content": null,
       "justify_items": null,
       "left": null,
       "margin": null,
       "max_height": null,
       "max_width": null,
       "min_height": null,
       "min_width": null,
       "object_fit": null,
       "object_position": null,
       "order": null,
       "overflow": null,
       "overflow_x": null,
       "overflow_y": null,
       "padding": null,
       "right": null,
       "top": null,
       "visibility": null,
       "width": null
      }
     },
     "c4669a0bffcc40f0af7567d0376b2102": {
      "model_module": "@jupyter-widgets/base",
      "model_module_version": "1.2.0",
      "model_name": "LayoutModel",
      "state": {
       "_model_module": "@jupyter-widgets/base",
       "_model_module_version": "1.2.0",
       "_model_name": "LayoutModel",
       "_view_count": null,
       "_view_module": "@jupyter-widgets/base",
       "_view_module_version": "1.2.0",
       "_view_name": "LayoutView",
       "align_content": null,
       "align_items": null,
       "align_self": null,
       "border": null,
       "bottom": null,
       "display": null,
       "flex": null,
       "flex_flow": null,
       "grid_area": null,
       "grid_auto_columns": null,
       "grid_auto_flow": null,
       "grid_auto_rows": null,
       "grid_column": null,
       "grid_gap": null,
       "grid_row": null,
       "grid_template_areas": null,
       "grid_template_columns": null,
       "grid_template_rows": null,
       "height": null,
       "justify_content": null,
       "justify_items": null,
       "left": null,
       "margin": null,
       "max_height": null,
       "max_width": null,
       "min_height": null,
       "min_width": null,
       "object_fit": null,
       "object_position": null,
       "order": null,
       "overflow": null,
       "overflow_x": null,
       "overflow_y": null,
       "padding": null,
       "right": null,
       "top": null,
       "visibility": null,
       "width": null
      }
     },
     "c7d724c1a41e49dba895703afa832425": {
      "model_module": "@jupyter-widgets/base",
      "model_module_version": "1.2.0",
      "model_name": "LayoutModel",
      "state": {
       "_model_module": "@jupyter-widgets/base",
       "_model_module_version": "1.2.0",
       "_model_name": "LayoutModel",
       "_view_count": null,
       "_view_module": "@jupyter-widgets/base",
       "_view_module_version": "1.2.0",
       "_view_name": "LayoutView",
       "align_content": null,
       "align_items": null,
       "align_self": null,
       "border": null,
       "bottom": null,
       "display": null,
       "flex": null,
       "flex_flow": null,
       "grid_area": null,
       "grid_auto_columns": null,
       "grid_auto_flow": null,
       "grid_auto_rows": null,
       "grid_column": null,
       "grid_gap": null,
       "grid_row": null,
       "grid_template_areas": null,
       "grid_template_columns": null,
       "grid_template_rows": null,
       "height": null,
       "justify_content": null,
       "justify_items": null,
       "left": null,
       "margin": null,
       "max_height": null,
       "max_width": null,
       "min_height": null,
       "min_width": null,
       "object_fit": null,
       "object_position": null,
       "order": null,
       "overflow": null,
       "overflow_x": null,
       "overflow_y": null,
       "padding": null,
       "right": null,
       "top": null,
       "visibility": null,
       "width": null
      }
     },
     "ca91271c633f45049f00bbf9a199d429": {
      "model_module": "@jupyter-widgets/base",
      "model_module_version": "1.2.0",
      "model_name": "LayoutModel",
      "state": {
       "_model_module": "@jupyter-widgets/base",
       "_model_module_version": "1.2.0",
       "_model_name": "LayoutModel",
       "_view_count": null,
       "_view_module": "@jupyter-widgets/base",
       "_view_module_version": "1.2.0",
       "_view_name": "LayoutView",
       "align_content": null,
       "align_items": null,
       "align_self": null,
       "border": null,
       "bottom": null,
       "display": null,
       "flex": null,
       "flex_flow": null,
       "grid_area": null,
       "grid_auto_columns": null,
       "grid_auto_flow": null,
       "grid_auto_rows": null,
       "grid_column": null,
       "grid_gap": null,
       "grid_row": null,
       "grid_template_areas": null,
       "grid_template_columns": null,
       "grid_template_rows": null,
       "height": null,
       "justify_content": null,
       "justify_items": null,
       "left": null,
       "margin": null,
       "max_height": null,
       "max_width": null,
       "min_height": null,
       "min_width": null,
       "object_fit": null,
       "object_position": null,
       "order": null,
       "overflow": null,
       "overflow_x": null,
       "overflow_y": null,
       "padding": null,
       "right": null,
       "top": null,
       "visibility": null,
       "width": null
      }
     },
     "cfde4d6877794864a5631daadfce778f": {
      "model_module": "@jupyter-widgets/base",
      "model_module_version": "1.2.0",
      "model_name": "LayoutModel",
      "state": {
       "_model_module": "@jupyter-widgets/base",
       "_model_module_version": "1.2.0",
       "_model_name": "LayoutModel",
       "_view_count": null,
       "_view_module": "@jupyter-widgets/base",
       "_view_module_version": "1.2.0",
       "_view_name": "LayoutView",
       "align_content": null,
       "align_items": null,
       "align_self": null,
       "border": null,
       "bottom": null,
       "display": null,
       "flex": null,
       "flex_flow": null,
       "grid_area": null,
       "grid_auto_columns": null,
       "grid_auto_flow": null,
       "grid_auto_rows": null,
       "grid_column": null,
       "grid_gap": null,
       "grid_row": null,
       "grid_template_areas": null,
       "grid_template_columns": null,
       "grid_template_rows": null,
       "height": null,
       "justify_content": null,
       "justify_items": null,
       "left": null,
       "margin": null,
       "max_height": null,
       "max_width": null,
       "min_height": null,
       "min_width": null,
       "object_fit": null,
       "object_position": null,
       "order": null,
       "overflow": null,
       "overflow_x": null,
       "overflow_y": null,
       "padding": null,
       "right": null,
       "top": null,
       "visibility": null,
       "width": null
      }
     },
     "d1f6ec0f78f14ceeb38c4da7d021172b": {
      "model_module": "@jupyter-widgets/controls",
      "model_module_version": "1.5.0",
      "model_name": "HTMLModel",
      "state": {
       "_dom_classes": [],
       "_model_module": "@jupyter-widgets/controls",
       "_model_module_version": "1.5.0",
       "_model_name": "HTMLModel",
       "_view_count": null,
       "_view_module": "@jupyter-widgets/controls",
       "_view_module_version": "1.5.0",
       "_view_name": "HTMLView",
       "description": "",
       "description_tooltip": null,
       "layout": "IPY_MODEL_ca91271c633f45049f00bbf9a199d429",
       "placeholder": "​",
       "style": "IPY_MODEL_403c2c7ab0e14b05be0bc893d219ccd0",
       "value": "100%"
      }
     },
     "d3cb0ea9045847c7b44c8b9eb7f681d6": {
      "model_module": "@jupyter-widgets/controls",
      "model_module_version": "1.5.0",
      "model_name": "FloatProgressModel",
      "state": {
       "_dom_classes": [],
       "_model_module": "@jupyter-widgets/controls",
       "_model_module_version": "1.5.0",
       "_model_name": "FloatProgressModel",
       "_view_count": null,
       "_view_module": "@jupyter-widgets/controls",
       "_view_module_version": "1.5.0",
       "_view_name": "ProgressView",
       "bar_style": "success",
       "description": "",
       "description_tooltip": null,
       "layout": "IPY_MODEL_796d49d0d5b64963ac038a70f66215c4",
       "max": 456318,
       "min": 0,
       "orientation": "horizontal",
       "style": "IPY_MODEL_df5fb1edfd574252bd9e13c7249fc947",
       "value": 456318
      }
     },
     "da8e77ea0b694588b554c65c2c77587c": {
      "model_module": "@jupyter-widgets/controls",
      "model_module_version": "1.5.0",
      "model_name": "HTMLModel",
      "state": {
       "_dom_classes": [],
       "_model_module": "@jupyter-widgets/controls",
       "_model_module_version": "1.5.0",
       "_model_name": "HTMLModel",
       "_view_count": null,
       "_view_module": "@jupyter-widgets/controls",
       "_view_module_version": "1.5.0",
       "_view_name": "HTMLView",
       "description": "",
       "description_tooltip": null,
       "layout": "IPY_MODEL_f2ea85c2ed2546bea5df09ec9302853d",
       "placeholder": "​",
       "style": "IPY_MODEL_70d7c5980492411f880e3aa8aca6df81",
       "value": " 446k/446k [00:00&lt;00:00, 818kB/s]"
      }
     },
     "dd9719aa56114f7cafbdc8d2206794ff": {
      "model_module": "@jupyter-widgets/base",
      "model_module_version": "1.2.0",
      "model_name": "LayoutModel",
      "state": {
       "_model_module": "@jupyter-widgets/base",
       "_model_module_version": "1.2.0",
       "_model_name": "LayoutModel",
       "_view_count": null,
       "_view_module": "@jupyter-widgets/base",
       "_view_module_version": "1.2.0",
       "_view_name": "LayoutView",
       "align_content": null,
       "align_items": null,
       "align_self": null,
       "border": null,
       "bottom": null,
       "display": null,
       "flex": null,
       "flex_flow": null,
       "grid_area": null,
       "grid_auto_columns": null,
       "grid_auto_flow": null,
       "grid_auto_rows": null,
       "grid_column": null,
       "grid_gap": null,
       "grid_row": null,
       "grid_template_areas": null,
       "grid_template_columns": null,
       "grid_template_rows": null,
       "height": null,
       "justify_content": null,
       "justify_items": null,
       "left": null,
       "margin": null,
       "max_height": null,
       "max_width": null,
       "min_height": null,
       "min_width": null,
       "object_fit": null,
       "object_position": null,
       "order": null,
       "overflow": null,
       "overflow_x": null,
       "overflow_y": null,
       "padding": null,
       "right": null,
       "top": null,
       "visibility": null,
       "width": null
      }
     },
     "df5fb1edfd574252bd9e13c7249fc947": {
      "model_module": "@jupyter-widgets/controls",
      "model_module_version": "1.5.0",
      "model_name": "ProgressStyleModel",
      "state": {
       "_model_module": "@jupyter-widgets/controls",
       "_model_module_version": "1.5.0",
       "_model_name": "ProgressStyleModel",
       "_view_count": null,
       "_view_module": "@jupyter-widgets/base",
       "_view_module_version": "1.2.0",
       "_view_name": "StyleView",
       "bar_color": null,
       "description_width": ""
      }
     },
     "e24d561fc87240e2944d68ecc6e71861": {
      "model_module": "@jupyter-widgets/controls",
      "model_module_version": "1.5.0",
      "model_name": "HTMLModel",
      "state": {
       "_dom_classes": [],
       "_model_module": "@jupyter-widgets/controls",
       "_model_module_version": "1.5.0",
       "_model_name": "HTMLModel",
       "_view_count": null,
       "_view_module": "@jupyter-widgets/controls",
       "_view_module_version": "1.5.0",
       "_view_name": "HTMLView",
       "description": "",
       "description_tooltip": null,
       "layout": "IPY_MODEL_9036a06730424f0981346873c0db6659",
       "placeholder": "​",
       "style": "IPY_MODEL_f5251a2309674ed394ef0047759c6403",
       "value": "Downloading: 100%"
      }
     },
     "e8be0fc78005498890180819f9554216": {
      "model_module": "@jupyter-widgets/base",
      "model_module_version": "1.2.0",
      "model_name": "LayoutModel",
      "state": {
       "_model_module": "@jupyter-widgets/base",
       "_model_module_version": "1.2.0",
       "_model_name": "LayoutModel",
       "_view_count": null,
       "_view_module": "@jupyter-widgets/base",
       "_view_module_version": "1.2.0",
       "_view_name": "LayoutView",
       "align_content": null,
       "align_items": null,
       "align_self": null,
       "border": null,
       "bottom": null,
       "display": null,
       "flex": null,
       "flex_flow": null,
       "grid_area": null,
       "grid_auto_columns": null,
       "grid_auto_flow": null,
       "grid_auto_rows": null,
       "grid_column": null,
       "grid_gap": null,
       "grid_row": null,
       "grid_template_areas": null,
       "grid_template_columns": null,
       "grid_template_rows": null,
       "height": null,
       "justify_content": null,
       "justify_items": null,
       "left": null,
       "margin": null,
       "max_height": null,
       "max_width": null,
       "min_height": null,
       "min_width": null,
       "object_fit": null,
       "object_position": null,
       "order": null,
       "overflow": null,
       "overflow_x": null,
       "overflow_y": null,
       "padding": null,
       "right": null,
       "top": null,
       "visibility": null,
       "width": null
      }
     },
     "eb283f63aebe4333972327d01c172932": {
      "model_module": "@jupyter-widgets/controls",
      "model_module_version": "1.5.0",
      "model_name": "FloatProgressModel",
      "state": {
       "_dom_classes": [],
       "_model_module": "@jupyter-widgets/controls",
       "_model_module_version": "1.5.0",
       "_model_name": "FloatProgressModel",
       "_view_count": null,
       "_view_module": "@jupyter-widgets/controls",
       "_view_module_version": "1.5.0",
       "_view_name": "ProgressView",
       "bar_style": "success",
       "description": "",
       "description_tooltip": null,
       "layout": "IPY_MODEL_cfde4d6877794864a5631daadfce778f",
       "max": 747,
       "min": 0,
       "orientation": "horizontal",
       "style": "IPY_MODEL_193d5bae2e7549ac90ab3399c8054507",
       "value": 747
      }
     },
     "eeb21cad8c134a9ea98cd5cce30a3166": {
      "model_module": "@jupyter-widgets/controls",
      "model_module_version": "1.5.0",
      "model_name": "FloatProgressModel",
      "state": {
       "_dom_classes": [],
       "_model_module": "@jupyter-widgets/controls",
       "_model_module_version": "1.5.0",
       "_model_name": "FloatProgressModel",
       "_view_count": null,
       "_view_module": "@jupyter-widgets/controls",
       "_view_module_version": "1.5.0",
       "_view_name": "ProgressView",
       "bar_style": "success",
       "description": "",
       "description_tooltip": null,
       "layout": "IPY_MODEL_77f8a387dbd04f869cc35bbf0d957bac",
       "max": 48,
       "min": 0,
       "orientation": "horizontal",
       "style": "IPY_MODEL_fc2e9c4150384df097e8cadcc802833a",
       "value": 48
      }
     },
     "ef2c5a7349674c08af93a5205ee39a90": {
      "model_module": "@jupyter-widgets/controls",
      "model_module_version": "1.5.0",
      "model_name": "DescriptionStyleModel",
      "state": {
       "_model_module": "@jupyter-widgets/controls",
       "_model_module_version": "1.5.0",
       "_model_name": "DescriptionStyleModel",
       "_view_count": null,
       "_view_module": "@jupyter-widgets/base",
       "_view_module_version": "1.2.0",
       "_view_name": "StyleView",
       "description_width": ""
      }
     },
     "f06b2fddbe7244bea8c473f0c8e7c9a8": {
      "model_module": "@jupyter-widgets/controls",
      "model_module_version": "1.5.0",
      "model_name": "DescriptionStyleModel",
      "state": {
       "_model_module": "@jupyter-widgets/controls",
       "_model_module_version": "1.5.0",
       "_model_name": "DescriptionStyleModel",
       "_view_count": null,
       "_view_module": "@jupyter-widgets/base",
       "_view_module_version": "1.2.0",
       "_view_name": "StyleView",
       "description_width": ""
      }
     },
     "f0d8a29a0fa0499baa220493bcf0c272": {
      "model_module": "@jupyter-widgets/base",
      "model_module_version": "1.2.0",
      "model_name": "LayoutModel",
      "state": {
       "_model_module": "@jupyter-widgets/base",
       "_model_module_version": "1.2.0",
       "_model_name": "LayoutModel",
       "_view_count": null,
       "_view_module": "@jupyter-widgets/base",
       "_view_module_version": "1.2.0",
       "_view_name": "LayoutView",
       "align_content": null,
       "align_items": null,
       "align_self": null,
       "border": null,
       "bottom": null,
       "display": null,
       "flex": null,
       "flex_flow": null,
       "grid_area": null,
       "grid_auto_columns": null,
       "grid_auto_flow": null,
       "grid_auto_rows": null,
       "grid_column": null,
       "grid_gap": null,
       "grid_row": null,
       "grid_template_areas": null,
       "grid_template_columns": null,
       "grid_template_rows": null,
       "height": null,
       "justify_content": null,
       "justify_items": null,
       "left": null,
       "margin": null,
       "max_height": null,
       "max_width": null,
       "min_height": null,
       "min_width": null,
       "object_fit": null,
       "object_position": null,
       "order": null,
       "overflow": null,
       "overflow_x": null,
       "overflow_y": null,
       "padding": null,
       "right": null,
       "top": null,
       "visibility": null,
       "width": null
      }
     },
     "f2ea85c2ed2546bea5df09ec9302853d": {
      "model_module": "@jupyter-widgets/base",
      "model_module_version": "1.2.0",
      "model_name": "LayoutModel",
      "state": {
       "_model_module": "@jupyter-widgets/base",
       "_model_module_version": "1.2.0",
       "_model_name": "LayoutModel",
       "_view_count": null,
       "_view_module": "@jupyter-widgets/base",
       "_view_module_version": "1.2.0",
       "_view_name": "LayoutView",
       "align_content": null,
       "align_items": null,
       "align_self": null,
       "border": null,
       "bottom": null,
       "display": null,
       "flex": null,
       "flex_flow": null,
       "grid_area": null,
       "grid_auto_columns": null,
       "grid_auto_flow": null,
       "grid_auto_rows": null,
       "grid_column": null,
       "grid_gap": null,
       "grid_row": null,
       "grid_template_areas": null,
       "grid_template_columns": null,
       "grid_template_rows": null,
       "height": null,
       "justify_content": null,
       "justify_items": null,
       "left": null,
       "margin": null,
       "max_height": null,
       "max_width": null,
       "min_height": null,
       "min_width": null,
       "object_fit": null,
       "object_position": null,
       "order": null,
       "overflow": null,
       "overflow_x": null,
       "overflow_y": null,
       "padding": null,
       "right": null,
       "top": null,
       "visibility": null,
       "width": null
      }
     },
     "f5251a2309674ed394ef0047759c6403": {
      "model_module": "@jupyter-widgets/controls",
      "model_module_version": "1.5.0",
      "model_name": "DescriptionStyleModel",
      "state": {
       "_model_module": "@jupyter-widgets/controls",
       "_model_module_version": "1.5.0",
       "_model_name": "DescriptionStyleModel",
       "_view_count": null,
       "_view_module": "@jupyter-widgets/base",
       "_view_module_version": "1.2.0",
       "_view_name": "StyleView",
       "description_width": ""
      }
     },
     "f5557eea2ca64848958ef3215146bf4e": {
      "model_module": "@jupyter-widgets/base",
      "model_module_version": "1.2.0",
      "model_name": "LayoutModel",
      "state": {
       "_model_module": "@jupyter-widgets/base",
       "_model_module_version": "1.2.0",
       "_model_name": "LayoutModel",
       "_view_count": null,
       "_view_module": "@jupyter-widgets/base",
       "_view_module_version": "1.2.0",
       "_view_name": "LayoutView",
       "align_content": null,
       "align_items": null,
       "align_self": null,
       "border": null,
       "bottom": null,
       "display": null,
       "flex": null,
       "flex_flow": null,
       "grid_area": null,
       "grid_auto_columns": null,
       "grid_auto_flow": null,
       "grid_auto_rows": null,
       "grid_column": null,
       "grid_gap": null,
       "grid_row": null,
       "grid_template_areas": null,
       "grid_template_columns": null,
       "grid_template_rows": null,
       "height": null,
       "justify_content": null,
       "justify_items": null,
       "left": null,
       "margin": null,
       "max_height": null,
       "max_width": null,
       "min_height": null,
       "min_width": null,
       "object_fit": null,
       "object_position": null,
       "order": null,
       "overflow": null,
       "overflow_x": null,
       "overflow_y": null,
       "padding": null,
       "right": null,
       "top": null,
       "visibility": null,
       "width": null
      }
     },
     "f65d3b8cbbf24ec886680dbf25a3b324": {
      "model_module": "@jupyter-widgets/base",
      "model_module_version": "1.2.0",
      "model_name": "LayoutModel",
      "state": {
       "_model_module": "@jupyter-widgets/base",
       "_model_module_version": "1.2.0",
       "_model_name": "LayoutModel",
       "_view_count": null,
       "_view_module": "@jupyter-widgets/base",
       "_view_module_version": "1.2.0",
       "_view_name": "LayoutView",
       "align_content": null,
       "align_items": null,
       "align_self": null,
       "border": null,
       "bottom": null,
       "display": null,
       "flex": null,
       "flex_flow": null,
       "grid_area": null,
       "grid_auto_columns": null,
       "grid_auto_flow": null,
       "grid_auto_rows": null,
       "grid_column": null,
       "grid_gap": null,
       "grid_row": null,
       "grid_template_areas": null,
       "grid_template_columns": null,
       "grid_template_rows": null,
       "height": null,
       "justify_content": null,
       "justify_items": null,
       "left": null,
       "margin": null,
       "max_height": null,
       "max_width": null,
       "min_height": null,
       "min_width": null,
       "object_fit": null,
       "object_position": null,
       "order": null,
       "overflow": null,
       "overflow_x": null,
       "overflow_y": null,
       "padding": null,
       "right": null,
       "top": null,
       "visibility": null,
       "width": null
      }
     },
     "fac5b523ebea4069958a44267ab7992e": {
      "model_module": "@jupyter-widgets/controls",
      "model_module_version": "1.5.0",
      "model_name": "HTMLModel",
      "state": {
       "_dom_classes": [],
       "_model_module": "@jupyter-widgets/controls",
       "_model_module_version": "1.5.0",
       "_model_name": "HTMLModel",
       "_view_count": null,
       "_view_module": "@jupyter-widgets/controls",
       "_view_module_version": "1.5.0",
       "_view_name": "HTMLView",
       "description": "",
       "description_tooltip": null,
       "layout": "IPY_MODEL_4021bbc37c3248b79622a99b91c3be88",
       "placeholder": "​",
       "style": "IPY_MODEL_352cfacfc9514c39bde82873d0b4b6a0",
       "value": " 878k/878k [00:00&lt;00:00, 2.29MB/s]"
      }
     },
     "fc2e9c4150384df097e8cadcc802833a": {
      "model_module": "@jupyter-widgets/controls",
      "model_module_version": "1.5.0",
      "model_name": "ProgressStyleModel",
      "state": {
       "_model_module": "@jupyter-widgets/controls",
       "_model_module_version": "1.5.0",
       "_model_name": "ProgressStyleModel",
       "_view_count": null,
       "_view_module": "@jupyter-widgets/base",
       "_view_module_version": "1.2.0",
       "_view_name": "StyleView",
       "bar_color": null,
       "description_width": ""
      }
     },
     "fc3576baacd542fca3e4193b9d552336": {
      "model_module": "@jupyter-widgets/controls",
      "model_module_version": "1.5.0",
      "model_name": "HBoxModel",
      "state": {
       "_dom_classes": [],
       "_model_module": "@jupyter-widgets/controls",
       "_model_module_version": "1.5.0",
       "_model_name": "HBoxModel",
       "_view_count": null,
       "_view_module": "@jupyter-widgets/controls",
       "_view_module_version": "1.5.0",
       "_view_name": "HBoxView",
       "box_style": "",
       "children": [
        "IPY_MODEL_221eefb3d4a14d92abc1020e58477718",
        "IPY_MODEL_a7b9b1bfd30c42ba94bff021435f45f3",
        "IPY_MODEL_6b8915e22b89435cbe0136e2c0c02795"
       ],
       "layout": "IPY_MODEL_f5557eea2ca64848958ef3215146bf4e"
      }
     },
     "fdaf2f2d215544069504208676551d4f": {
      "model_module": "@jupyter-widgets/controls",
      "model_module_version": "1.5.0",
      "model_name": "HBoxModel",
      "state": {
       "_dom_classes": [],
       "_model_module": "@jupyter-widgets/controls",
       "_model_module_version": "1.5.0",
       "_model_name": "HBoxModel",
       "_view_count": null,
       "_view_module": "@jupyter-widgets/controls",
       "_view_module_version": "1.5.0",
       "_view_name": "HBoxView",
       "box_style": "",
       "children": [
        "IPY_MODEL_9cb3f851616244a29f55b7400e98bc72",
        "IPY_MODEL_eb283f63aebe4333972327d01c172932",
        "IPY_MODEL_9b87f5df51ad4c3896c04a39e601ea81"
       ],
       "layout": "IPY_MODEL_4ed54468f33f459581a2b17b0444e9a9"
      }
     }
    },
    "version_major": 2,
    "version_minor": 0
   }
  }
 },
 "nbformat": 4,
 "nbformat_minor": 5
}
